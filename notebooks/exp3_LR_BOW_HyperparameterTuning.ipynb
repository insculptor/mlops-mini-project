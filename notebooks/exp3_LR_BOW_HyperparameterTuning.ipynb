{
 "cells": [
  {
   "cell_type": "code",
   "execution_count": 14,
   "metadata": {},
   "outputs": [
    {
     "data": {
      "text/plain": [
       "True"
      ]
     },
     "execution_count": 14,
     "metadata": {},
     "output_type": "execute_result"
    }
   ],
   "source": [
    "import os\n",
    "from pathlib import Path\n",
    "from dotenv import load_dotenv\n",
    "load_dotenv()"
   ]
  },
  {
   "cell_type": "code",
   "execution_count": 15,
   "metadata": {},
   "outputs": [],
   "source": [
    "import re\n",
    "import string\n",
    "import dagshub\n",
    "import mlflow\n",
    "import mlflow.sklearn\n",
    "import pandas as pd\n",
    "import numpy as np\n",
    "from sklearn.feature_extraction.text import CountVectorizer, TfidfVectorizer\n",
    "from sklearn.model_selection import train_test_split, GridSearchCV\n",
    "from sklearn.linear_model import LogisticRegression\n",
    "from sklearn.metrics import accuracy_score, precision_score, recall_score, f1_score\n",
    "from nltk.corpus import stopwords\n",
    "from nltk.stem import WordNetLemmatizer"
   ]
  },
  {
   "cell_type": "code",
   "execution_count": 16,
   "metadata": {},
   "outputs": [],
   "source": [
    "base_dir = Path(os.getenv('BASE_DIR'))\n",
    "base_data_dir = Path(os.getenv('BASE_DATA_DIR'))\n",
    "external_data_path = os.path.join(base_data_dir,\"external\")\n",
    "raw_data_path = os.path.join(base_data_dir, \"raw\")\n",
    "notebooks_path = os.path.join(base_dir, \"notebooks\")\n",
    "os.makedirs(raw_data_path, exist_ok=True)\n",
    "os.makedirs(external_data_path, exist_ok=True)"
   ]
  },
  {
   "cell_type": "code",
   "execution_count": 17,
   "metadata": {},
   "outputs": [
    {
     "data": {
      "text/html": [
       "<pre style=\"white-space:pre;overflow-x:auto;line-height:normal;font-family:Menlo,'DejaVu Sans Mono',consolas,'Courier New',monospace\">Initialized MLflow to track repo <span style=\"color: #008000; text-decoration-color: #008000\">\"insculptor/mlops-mini-project\"</span>\n",
       "</pre>\n"
      ],
      "text/plain": [
       "Initialized MLflow to track repo \u001b[32m\"insculptor/mlops-mini-project\"\u001b[0m\n"
      ]
     },
     "metadata": {},
     "output_type": "display_data"
    },
    {
     "data": {
      "text/html": [
       "<pre style=\"white-space:pre;overflow-x:auto;line-height:normal;font-family:Menlo,'DejaVu Sans Mono',consolas,'Courier New',monospace\">Repository insculptor/mlops-mini-project initialized!\n",
       "</pre>\n"
      ],
      "text/plain": [
       "Repository insculptor/mlops-mini-project initialized!\n"
      ]
     },
     "metadata": {},
     "output_type": "display_data"
    }
   ],
   "source": [
    "mlflow.set_tracking_uri('https://dagshub.com/insculptor/mlops-mini-project.mlflow')\n",
    "dagshub.init(repo_owner='insculptor', repo_name='mlops-mini-project', mlflow=True)"
   ]
  },
  {
   "cell_type": "code",
   "execution_count": 18,
   "metadata": {},
   "outputs": [
    {
     "data": {
      "text/html": [
       "<div>\n",
       "<style scoped>\n",
       "    .dataframe tbody tr th:only-of-type {\n",
       "        vertical-align: middle;\n",
       "    }\n",
       "\n",
       "    .dataframe tbody tr th {\n",
       "        vertical-align: top;\n",
       "    }\n",
       "\n",
       "    .dataframe thead th {\n",
       "        text-align: right;\n",
       "    }\n",
       "</style>\n",
       "<table border=\"1\" class=\"dataframe\">\n",
       "  <thead>\n",
       "    <tr style=\"text-align: right;\">\n",
       "      <th></th>\n",
       "      <th>sentiment</th>\n",
       "      <th>content</th>\n",
       "    </tr>\n",
       "  </thead>\n",
       "  <tbody>\n",
       "    <tr>\n",
       "      <th>0</th>\n",
       "      <td>empty</td>\n",
       "      <td>@tiffanylue i know  i was listenin to bad habi...</td>\n",
       "    </tr>\n",
       "    <tr>\n",
       "      <th>1</th>\n",
       "      <td>sadness</td>\n",
       "      <td>Layin n bed with a headache  ughhhh...waitin o...</td>\n",
       "    </tr>\n",
       "    <tr>\n",
       "      <th>2</th>\n",
       "      <td>sadness</td>\n",
       "      <td>Funeral ceremony...gloomy friday...</td>\n",
       "    </tr>\n",
       "    <tr>\n",
       "      <th>3</th>\n",
       "      <td>enthusiasm</td>\n",
       "      <td>wants to hang out with friends SOON!</td>\n",
       "    </tr>\n",
       "    <tr>\n",
       "      <th>4</th>\n",
       "      <td>neutral</td>\n",
       "      <td>@dannycastillo We want to trade with someone w...</td>\n",
       "    </tr>\n",
       "  </tbody>\n",
       "</table>\n",
       "</div>"
      ],
      "text/plain": [
       "    sentiment                                            content\n",
       "0       empty  @tiffanylue i know  i was listenin to bad habi...\n",
       "1     sadness  Layin n bed with a headache  ughhhh...waitin o...\n",
       "2     sadness                Funeral ceremony...gloomy friday...\n",
       "3  enthusiasm               wants to hang out with friends SOON!\n",
       "4     neutral  @dannycastillo We want to trade with someone w..."
      ]
     },
     "execution_count": 18,
     "metadata": {},
     "output_type": "execute_result"
    }
   ],
   "source": [
    "df = pd.read_csv(os.path.join(external_data_path, 'tweet_emotions.csv')).drop(columns=['tweet_id'])\n",
    "df.head(5)"
   ]
  },
  {
   "cell_type": "code",
   "execution_count": 19,
   "metadata": {},
   "outputs": [],
   "source": [
    "# data preprocessing\n",
    "\n",
    "# Define text preprocessing functions\n",
    "def lemmatization(text):\n",
    "    \"\"\"Lemmatize the text.\"\"\"\n",
    "    lemmatizer = WordNetLemmatizer()\n",
    "    text = text.split()\n",
    "    text = [lemmatizer.lemmatize(word) for word in text]\n",
    "    return \" \".join(text)\n",
    "\n",
    "def remove_stop_words(text):\n",
    "    \"\"\"Remove stop words from the text.\"\"\"\n",
    "    stop_words = set(stopwords.words(\"english\"))\n",
    "    text = [word for word in str(text).split() if word not in stop_words]\n",
    "    return \" \".join(text)\n",
    "\n",
    "def removing_numbers(text):\n",
    "    \"\"\"Remove numbers from the text.\"\"\"\n",
    "    text = ''.join([char for char in text if not char.isdigit()])\n",
    "    return text\n",
    "\n",
    "def lower_case(text):\n",
    "    \"\"\"Convert text to lower case.\"\"\"\n",
    "    text = text.split()\n",
    "    text = [word.lower() for word in text]\n",
    "    return \" \".join(text)\n",
    "\n",
    "def removing_punctuations(text):\n",
    "    \"\"\"Remove punctuations from the text.\"\"\"\n",
    "    text = re.sub('[%s]' % re.escape(string.punctuation), ' ', text)\n",
    "    text = text.replace('؛', \"\")\n",
    "    text = re.sub('\\s+', ' ', text).strip()\n",
    "    return text\n",
    "\n",
    "def removing_urls(text):\n",
    "    \"\"\"Remove URLs from the text.\"\"\"\n",
    "    url_pattern = re.compile(r'https?://\\S+|www\\.\\S+')\n",
    "    return url_pattern.sub(r'', text)\n",
    "\n",
    "def normalize_text(df):\n",
    "    \"\"\"Normalize the text data.\"\"\"\n",
    "    try:\n",
    "        df['content'] = df['content'].apply(lower_case)\n",
    "        df['content'] = df['content'].apply(remove_stop_words)\n",
    "        df['content'] = df['content'].apply(removing_numbers)\n",
    "        df['content'] = df['content'].apply(removing_punctuations)\n",
    "        df['content'] = df['content'].apply(removing_urls)\n",
    "        df['content'] = df['content'].apply(lemmatization)\n",
    "        return df\n",
    "    except Exception as e:\n",
    "        print(f'Error during text normalization: {e}')\n",
    "        raise"
   ]
  },
  {
   "cell_type": "code",
   "execution_count": 20,
   "metadata": {},
   "outputs": [
    {
     "data": {
      "text/html": [
       "<div>\n",
       "<style scoped>\n",
       "    .dataframe tbody tr th:only-of-type {\n",
       "        vertical-align: middle;\n",
       "    }\n",
       "\n",
       "    .dataframe tbody tr th {\n",
       "        vertical-align: top;\n",
       "    }\n",
       "\n",
       "    .dataframe thead th {\n",
       "        text-align: right;\n",
       "    }\n",
       "</style>\n",
       "<table border=\"1\" class=\"dataframe\">\n",
       "  <thead>\n",
       "    <tr style=\"text-align: right;\">\n",
       "      <th></th>\n",
       "      <th>sentiment</th>\n",
       "      <th>content</th>\n",
       "    </tr>\n",
       "  </thead>\n",
       "  <tbody>\n",
       "    <tr>\n",
       "      <th>0</th>\n",
       "      <td>empty</td>\n",
       "      <td>tiffanylue know listenin bad habit earlier sta...</td>\n",
       "    </tr>\n",
       "    <tr>\n",
       "      <th>1</th>\n",
       "      <td>sadness</td>\n",
       "      <td>layin n bed headache ughhhh waitin call</td>\n",
       "    </tr>\n",
       "    <tr>\n",
       "      <th>2</th>\n",
       "      <td>sadness</td>\n",
       "      <td>funeral ceremony gloomy friday</td>\n",
       "    </tr>\n",
       "    <tr>\n",
       "      <th>3</th>\n",
       "      <td>enthusiasm</td>\n",
       "      <td>want hang friend soon</td>\n",
       "    </tr>\n",
       "    <tr>\n",
       "      <th>4</th>\n",
       "      <td>neutral</td>\n",
       "      <td>dannycastillo want trade someone houston ticke...</td>\n",
       "    </tr>\n",
       "  </tbody>\n",
       "</table>\n",
       "</div>"
      ],
      "text/plain": [
       "    sentiment                                            content\n",
       "0       empty  tiffanylue know listenin bad habit earlier sta...\n",
       "1     sadness            layin n bed headache ughhhh waitin call\n",
       "2     sadness                     funeral ceremony gloomy friday\n",
       "3  enthusiasm                              want hang friend soon\n",
       "4     neutral  dannycastillo want trade someone houston ticke..."
      ]
     },
     "execution_count": 20,
     "metadata": {},
     "output_type": "execute_result"
    }
   ],
   "source": [
    "df = normalize_text(df)\n",
    "df.head(5)"
   ]
  },
  {
   "cell_type": "code",
   "execution_count": 21,
   "metadata": {},
   "outputs": [
    {
     "name": "stderr",
     "output_type": "stream",
     "text": [
      "C:\\Users\\erdrr\\AppData\\Local\\Temp\\ipykernel_15700\\2264095480.py:3: FutureWarning: Downcasting behavior in `replace` is deprecated and will be removed in a future version. To retain the old behavior, explicitly call `result.infer_objects(copy=False)`. To opt-in to the future behavior, set `pd.set_option('future.no_silent_downcasting', True)`\n",
      "  df['sentiment'] = df['sentiment'].replace({'sadness':0, 'happiness':1})\n"
     ]
    },
    {
     "data": {
      "text/html": [
       "<div>\n",
       "<style scoped>\n",
       "    .dataframe tbody tr th:only-of-type {\n",
       "        vertical-align: middle;\n",
       "    }\n",
       "\n",
       "    .dataframe tbody tr th {\n",
       "        vertical-align: top;\n",
       "    }\n",
       "\n",
       "    .dataframe thead th {\n",
       "        text-align: right;\n",
       "    }\n",
       "</style>\n",
       "<table border=\"1\" class=\"dataframe\">\n",
       "  <thead>\n",
       "    <tr style=\"text-align: right;\">\n",
       "      <th></th>\n",
       "      <th>sentiment</th>\n",
       "      <th>content</th>\n",
       "    </tr>\n",
       "  </thead>\n",
       "  <tbody>\n",
       "    <tr>\n",
       "      <th>1</th>\n",
       "      <td>0</td>\n",
       "      <td>layin n bed headache ughhhh waitin call</td>\n",
       "    </tr>\n",
       "    <tr>\n",
       "      <th>2</th>\n",
       "      <td>0</td>\n",
       "      <td>funeral ceremony gloomy friday</td>\n",
       "    </tr>\n",
       "    <tr>\n",
       "      <th>6</th>\n",
       "      <td>0</td>\n",
       "      <td>sleep im not thinking old friend want he s mar...</td>\n",
       "    </tr>\n",
       "    <tr>\n",
       "      <th>8</th>\n",
       "      <td>0</td>\n",
       "      <td>charviray charlene love miss</td>\n",
       "    </tr>\n",
       "    <tr>\n",
       "      <th>9</th>\n",
       "      <td>0</td>\n",
       "      <td>kelcouch i m sorry least friday</td>\n",
       "    </tr>\n",
       "  </tbody>\n",
       "</table>\n",
       "</div>"
      ],
      "text/plain": [
       "   sentiment                                            content\n",
       "1          0            layin n bed headache ughhhh waitin call\n",
       "2          0                     funeral ceremony gloomy friday\n",
       "6          0  sleep im not thinking old friend want he s mar...\n",
       "8          0                       charviray charlene love miss\n",
       "9          0                    kelcouch i m sorry least friday"
      ]
     },
     "execution_count": 21,
     "metadata": {},
     "output_type": "execute_result"
    }
   ],
   "source": [
    "x = df['sentiment'].isin(['sadness', 'happiness'])\n",
    "df = df[x]\n",
    "df['sentiment'] = df['sentiment'].replace({'sadness':0, 'happiness':1})\n",
    "df.head()"
   ]
  },
  {
   "cell_type": "code",
   "execution_count": 22,
   "metadata": {},
   "outputs": [],
   "source": [
    "vectorizer = CountVectorizer()\n",
    "X = vectorizer.fit_transform(df['content'])\n",
    "y = df['sentiment']\n",
    "X_train, X_test, y_train, y_test = train_test_split(X, y, test_size=0.2, random_state=42)\n"
   ]
  },
  {
   "cell_type": "code",
   "execution_count": 23,
   "metadata": {},
   "outputs": [
    {
     "data": {
      "text/plain": [
       "<Experiment: artifact_location='mlflow-artifacts:/f1f3897db8804cecba5456ec21a9ffd6', creation_time=1723401175201, experiment_id='3', last_update_time=1723401175201, lifecycle_stage='active', name='MLops-Mini-Project_Exp3_LR-TFIDF_Hyperparameter-Tuning', tags={}>"
      ]
     },
     "execution_count": 23,
     "metadata": {},
     "output_type": "execute_result"
    }
   ],
   "source": [
    "# Set the experiment name\n",
    "mlflow.set_experiment(\"MLops-Mini-Project_Exp3_LR-TFIDF_Hyperparameter-Tuning\")"
   ]
  },
  {
   "cell_type": "code",
   "execution_count": 26,
   "metadata": {},
   "outputs": [],
   "source": [
    "param_grid = {\n",
    "    'C': [0.001, 0.01, 0.1, 1, 10, 100, 1000],\n",
    "    'max_iter': [100, 200, 300, 400, 500],\n",
    "    'penalty': ['l1', 'l2'],\n",
    "    'solver': ['liblinear', 'saga']\n",
    "}"
   ]
  },
  {
   "cell_type": "code",
   "execution_count": 27,
   "metadata": {},
   "outputs": [
    {
     "name": "stderr",
     "output_type": "stream",
     "text": [
      "c:\\Users\\erdrr\\anaconda3\\envs\\mlops_py311\\Lib\\site-packages\\numpy\\ma\\core.py:2820: RuntimeWarning: invalid value encountered in cast\n",
      "  _data = np.array(data, dtype=dtype, copy=copy,\n",
      "c:\\Users\\erdrr\\anaconda3\\envs\\mlops_py311\\Lib\\site-packages\\sklearn\\metrics\\_classification.py:1531: UndefinedMetricWarning: Precision is ill-defined and being set to 0.0 due to no predicted samples. Use `zero_division` parameter to control this behavior.\n",
      "  _warn_prf(average, modifier, f\"{metric.capitalize()} is\", len(result))\n",
      "2024/08/11 14:52:44 INFO mlflow.tracking._tracking_service.client: 🏃 View run LR with params: {'C': 0.001, 'max_iter': 100, 'penalty': 'l1', 'solver': 'liblinear'} at: https://dagshub.com/insculptor/mlops-mini-project.mlflow/#/experiments/3/runs/b88532f268614c16868f6e16a26fde0e.\n",
      "2024/08/11 14:52:44 INFO mlflow.tracking._tracking_service.client: 🧪 View experiment at: https://dagshub.com/insculptor/mlops-mini-project.mlflow/#/experiments/3.\n"
     ]
    },
    {
     "name": "stdout",
     "output_type": "stream",
     "text": [
      "Mean CV Score: 0.0, Std CV Score: 0.0\n",
      "Accuracy: 0.5108433734939759\n",
      "Precision: 0.0\n",
      "Recall: 0.0\n",
      "F1 Score: 0.0\n"
     ]
    },
    {
     "name": "stderr",
     "output_type": "stream",
     "text": [
      "2024/08/11 14:52:46 INFO mlflow.tracking._tracking_service.client: 🏃 View run LR with params: {'C': 0.001, 'max_iter': 100, 'penalty': 'l1', 'solver': 'saga'} at: https://dagshub.com/insculptor/mlops-mini-project.mlflow/#/experiments/3/runs/618940e5af0e4caa9c296d8a14506f62.\n",
      "2024/08/11 14:52:46 INFO mlflow.tracking._tracking_service.client: 🧪 View experiment at: https://dagshub.com/insculptor/mlops-mini-project.mlflow/#/experiments/3.\n"
     ]
    },
    {
     "name": "stdout",
     "output_type": "stream",
     "text": [
      "Mean CV Score: 0.5371222417681529, Std CV Score: 0.2685611402213311\n",
      "Accuracy: 0.4891566265060241\n",
      "Precision: 0.4891566265060241\n",
      "Recall: 1.0\n",
      "F1 Score: 0.656957928802589\n"
     ]
    },
    {
     "name": "stderr",
     "output_type": "stream",
     "text": [
      "2024/08/11 14:52:47 INFO mlflow.tracking._tracking_service.client: 🏃 View run LR with params: {'C': 0.001, 'max_iter': 100, 'penalty': 'l2', 'solver': 'liblinear'} at: https://dagshub.com/insculptor/mlops-mini-project.mlflow/#/experiments/3/runs/4f073520e5064af98d00817334a678b5.\n",
      "2024/08/11 14:52:47 INFO mlflow.tracking._tracking_service.client: 🧪 View experiment at: https://dagshub.com/insculptor/mlops-mini-project.mlflow/#/experiments/3.\n"
     ]
    },
    {
     "name": "stdout",
     "output_type": "stream",
     "text": [
      "Mean CV Score: 0.759051262936256, Std CV Score: 0.008689989084121275\n",
      "Accuracy: 0.7450602409638554\n",
      "Precision: 0.7091222030981067\n",
      "Recall: 0.8118226600985222\n",
      "F1 Score: 0.7570050528249885\n"
     ]
    },
    {
     "name": "stderr",
     "output_type": "stream",
     "text": [
      "2024/08/11 14:52:49 INFO mlflow.tracking._tracking_service.client: 🏃 View run LR with params: {'C': 0.001, 'max_iter': 100, 'penalty': 'l2', 'solver': 'saga'} at: https://dagshub.com/insculptor/mlops-mini-project.mlflow/#/experiments/3/runs/a50b67e4820d419b8b9e683b3b1c6490.\n",
      "2024/08/11 14:52:49 INFO mlflow.tracking._tracking_service.client: 🧪 View experiment at: https://dagshub.com/insculptor/mlops-mini-project.mlflow/#/experiments/3.\n"
     ]
    },
    {
     "name": "stdout",
     "output_type": "stream",
     "text": [
      "Mean CV Score: 0.7579301565111026, Std CV Score: 0.010652022309795544\n",
      "Accuracy: 0.744578313253012\n",
      "Precision: 0.7067348678601876\n",
      "Recall: 0.8167487684729065\n",
      "F1 Score: 0.7577696526508226\n"
     ]
    },
    {
     "name": "stderr",
     "output_type": "stream",
     "text": [
      "c:\\Users\\erdrr\\anaconda3\\envs\\mlops_py311\\Lib\\site-packages\\sklearn\\metrics\\_classification.py:1531: UndefinedMetricWarning: Precision is ill-defined and being set to 0.0 due to no predicted samples. Use `zero_division` parameter to control this behavior.\n",
      "  _warn_prf(average, modifier, f\"{metric.capitalize()} is\", len(result))\n",
      "2024/08/11 14:52:51 INFO mlflow.tracking._tracking_service.client: 🏃 View run LR with params: {'C': 0.001, 'max_iter': 200, 'penalty': 'l1', 'solver': 'liblinear'} at: https://dagshub.com/insculptor/mlops-mini-project.mlflow/#/experiments/3/runs/0bffb301a4b8467ba673ecde9c258972.\n",
      "2024/08/11 14:52:51 INFO mlflow.tracking._tracking_service.client: 🧪 View experiment at: https://dagshub.com/insculptor/mlops-mini-project.mlflow/#/experiments/3.\n"
     ]
    },
    {
     "name": "stdout",
     "output_type": "stream",
     "text": [
      "Mean CV Score: 0.0, Std CV Score: 0.0\n",
      "Accuracy: 0.5108433734939759\n",
      "Precision: 0.0\n",
      "Recall: 0.0\n",
      "F1 Score: 0.0\n"
     ]
    },
    {
     "name": "stderr",
     "output_type": "stream",
     "text": [
      "2024/08/11 14:52:52 INFO mlflow.tracking._tracking_service.client: 🏃 View run LR with params: {'C': 0.001, 'max_iter': 200, 'penalty': 'l1', 'solver': 'saga'} at: https://dagshub.com/insculptor/mlops-mini-project.mlflow/#/experiments/3/runs/993abaf3648742afab70a6b685dd3faf.\n",
      "2024/08/11 14:52:52 INFO mlflow.tracking._tracking_service.client: 🧪 View experiment at: https://dagshub.com/insculptor/mlops-mini-project.mlflow/#/experiments/3.\n"
     ]
    },
    {
     "name": "stdout",
     "output_type": "stream",
     "text": [
      "Mean CV Score: 0.6714159592551477, Std CV Score: 0.00010525635965237258\n",
      "Accuracy: 0.4891566265060241\n",
      "Precision: 0.4891566265060241\n",
      "Recall: 1.0\n",
      "F1 Score: 0.656957928802589\n"
     ]
    },
    {
     "name": "stderr",
     "output_type": "stream",
     "text": [
      "2024/08/11 14:52:54 INFO mlflow.tracking._tracking_service.client: 🏃 View run LR with params: {'C': 0.001, 'max_iter': 200, 'penalty': 'l2', 'solver': 'liblinear'} at: https://dagshub.com/insculptor/mlops-mini-project.mlflow/#/experiments/3/runs/0def3ec96dc54be68ccdd372ec81a85f.\n",
      "2024/08/11 14:52:54 INFO mlflow.tracking._tracking_service.client: 🧪 View experiment at: https://dagshub.com/insculptor/mlops-mini-project.mlflow/#/experiments/3.\n"
     ]
    },
    {
     "name": "stdout",
     "output_type": "stream",
     "text": [
      "Mean CV Score: 0.759051262936256, Std CV Score: 0.008689989084121275\n",
      "Accuracy: 0.7450602409638554\n",
      "Precision: 0.7091222030981067\n",
      "Recall: 0.8118226600985222\n",
      "F1 Score: 0.7570050528249885\n"
     ]
    },
    {
     "name": "stderr",
     "output_type": "stream",
     "text": [
      "2024/08/11 14:52:55 INFO mlflow.tracking._tracking_service.client: 🏃 View run LR with params: {'C': 0.001, 'max_iter': 200, 'penalty': 'l2', 'solver': 'saga'} at: https://dagshub.com/insculptor/mlops-mini-project.mlflow/#/experiments/3/runs/d9997fee34b54545a25d2bd35421fcc9.\n",
      "2024/08/11 14:52:55 INFO mlflow.tracking._tracking_service.client: 🧪 View experiment at: https://dagshub.com/insculptor/mlops-mini-project.mlflow/#/experiments/3.\n"
     ]
    },
    {
     "name": "stdout",
     "output_type": "stream",
     "text": [
      "Mean CV Score: 0.7571046392024172, Std CV Score: 0.010115947526869232\n",
      "Accuracy: 0.743132530120482\n",
      "Precision: 0.7049319727891157\n",
      "Recall: 0.8167487684729065\n",
      "F1 Score: 0.7567320858055683\n"
     ]
    },
    {
     "name": "stderr",
     "output_type": "stream",
     "text": [
      "c:\\Users\\erdrr\\anaconda3\\envs\\mlops_py311\\Lib\\site-packages\\sklearn\\metrics\\_classification.py:1531: UndefinedMetricWarning: Precision is ill-defined and being set to 0.0 due to no predicted samples. Use `zero_division` parameter to control this behavior.\n",
      "  _warn_prf(average, modifier, f\"{metric.capitalize()} is\", len(result))\n",
      "2024/08/11 14:52:57 INFO mlflow.tracking._tracking_service.client: 🏃 View run LR with params: {'C': 0.001, 'max_iter': 300, 'penalty': 'l1', 'solver': 'liblinear'} at: https://dagshub.com/insculptor/mlops-mini-project.mlflow/#/experiments/3/runs/a618617472c945fd9b3781761022e888.\n",
      "2024/08/11 14:52:57 INFO mlflow.tracking._tracking_service.client: 🧪 View experiment at: https://dagshub.com/insculptor/mlops-mini-project.mlflow/#/experiments/3.\n"
     ]
    },
    {
     "name": "stdout",
     "output_type": "stream",
     "text": [
      "Mean CV Score: 0.0, Std CV Score: 0.0\n",
      "Accuracy: 0.5108433734939759\n",
      "Precision: 0.0\n",
      "Recall: 0.0\n",
      "F1 Score: 0.0\n"
     ]
    },
    {
     "name": "stderr",
     "output_type": "stream",
     "text": [
      "2024/08/11 14:52:58 INFO mlflow.tracking._tracking_service.client: 🏃 View run LR with params: {'C': 0.001, 'max_iter': 300, 'penalty': 'l1', 'solver': 'saga'} at: https://dagshub.com/insculptor/mlops-mini-project.mlflow/#/experiments/3/runs/b58aefa7927048e0a200a04ac1d83106.\n",
      "2024/08/11 14:52:58 INFO mlflow.tracking._tracking_service.client: 🧪 View experiment at: https://dagshub.com/insculptor/mlops-mini-project.mlflow/#/experiments/3.\n"
     ]
    },
    {
     "name": "stdout",
     "output_type": "stream",
     "text": [
      "Mean CV Score: 0.6714159592551477, Std CV Score: 0.00010525635965237258\n",
      "Accuracy: 0.4891566265060241\n",
      "Precision: 0.4891566265060241\n",
      "Recall: 1.0\n",
      "F1 Score: 0.656957928802589\n"
     ]
    },
    {
     "name": "stderr",
     "output_type": "stream",
     "text": [
      "2024/08/11 14:53:00 INFO mlflow.tracking._tracking_service.client: 🏃 View run LR with params: {'C': 0.001, 'max_iter': 300, 'penalty': 'l2', 'solver': 'liblinear'} at: https://dagshub.com/insculptor/mlops-mini-project.mlflow/#/experiments/3/runs/c83a29100bff44a986805f0d8dc48630.\n",
      "2024/08/11 14:53:00 INFO mlflow.tracking._tracking_service.client: 🧪 View experiment at: https://dagshub.com/insculptor/mlops-mini-project.mlflow/#/experiments/3.\n"
     ]
    },
    {
     "name": "stdout",
     "output_type": "stream",
     "text": [
      "Mean CV Score: 0.759051262936256, Std CV Score: 0.008689989084121275\n",
      "Accuracy: 0.7450602409638554\n",
      "Precision: 0.7091222030981067\n",
      "Recall: 0.8118226600985222\n",
      "F1 Score: 0.7570050528249885\n"
     ]
    },
    {
     "name": "stderr",
     "output_type": "stream",
     "text": [
      "2024/08/11 14:53:02 INFO mlflow.tracking._tracking_service.client: 🏃 View run LR with params: {'C': 0.001, 'max_iter': 300, 'penalty': 'l2', 'solver': 'saga'} at: https://dagshub.com/insculptor/mlops-mini-project.mlflow/#/experiments/3/runs/26bed57582c84a5d9e1a9033de5a7c55.\n",
      "2024/08/11 14:53:02 INFO mlflow.tracking._tracking_service.client: 🧪 View experiment at: https://dagshub.com/insculptor/mlops-mini-project.mlflow/#/experiments/3.\n"
     ]
    },
    {
     "name": "stdout",
     "output_type": "stream",
     "text": [
      "Mean CV Score: 0.7574454125555308, Std CV Score: 0.011181342661910494\n",
      "Accuracy: 0.743132530120482\n",
      "Precision: 0.7049319727891157\n",
      "Recall: 0.8167487684729065\n",
      "F1 Score: 0.7567320858055683\n"
     ]
    },
    {
     "name": "stderr",
     "output_type": "stream",
     "text": [
      "c:\\Users\\erdrr\\anaconda3\\envs\\mlops_py311\\Lib\\site-packages\\sklearn\\metrics\\_classification.py:1531: UndefinedMetricWarning: Precision is ill-defined and being set to 0.0 due to no predicted samples. Use `zero_division` parameter to control this behavior.\n",
      "  _warn_prf(average, modifier, f\"{metric.capitalize()} is\", len(result))\n",
      "2024/08/11 14:53:03 INFO mlflow.tracking._tracking_service.client: 🏃 View run LR with params: {'C': 0.001, 'max_iter': 400, 'penalty': 'l1', 'solver': 'liblinear'} at: https://dagshub.com/insculptor/mlops-mini-project.mlflow/#/experiments/3/runs/40e9f6cdb9714a68a132c8976f9cac91.\n",
      "2024/08/11 14:53:03 INFO mlflow.tracking._tracking_service.client: 🧪 View experiment at: https://dagshub.com/insculptor/mlops-mini-project.mlflow/#/experiments/3.\n"
     ]
    },
    {
     "name": "stdout",
     "output_type": "stream",
     "text": [
      "Mean CV Score: 0.0, Std CV Score: 0.0\n",
      "Accuracy: 0.5108433734939759\n",
      "Precision: 0.0\n",
      "Recall: 0.0\n",
      "F1 Score: 0.0\n"
     ]
    },
    {
     "name": "stderr",
     "output_type": "stream",
     "text": [
      "2024/08/11 14:53:05 INFO mlflow.tracking._tracking_service.client: 🏃 View run LR with params: {'C': 0.001, 'max_iter': 400, 'penalty': 'l1', 'solver': 'saga'} at: https://dagshub.com/insculptor/mlops-mini-project.mlflow/#/experiments/3/runs/5b922b63c79347dca3954b864a448a00.\n",
      "2024/08/11 14:53:05 INFO mlflow.tracking._tracking_service.client: 🧪 View experiment at: https://dagshub.com/insculptor/mlops-mini-project.mlflow/#/experiments/3.\n"
     ]
    },
    {
     "name": "stdout",
     "output_type": "stream",
     "text": [
      "Mean CV Score: 0.6714159592551477, Std CV Score: 0.00010525635965237258\n",
      "Accuracy: 0.4891566265060241\n",
      "Precision: 0.4891566265060241\n",
      "Recall: 1.0\n",
      "F1 Score: 0.656957928802589\n"
     ]
    },
    {
     "name": "stderr",
     "output_type": "stream",
     "text": [
      "2024/08/11 14:53:06 INFO mlflow.tracking._tracking_service.client: 🏃 View run LR with params: {'C': 0.001, 'max_iter': 400, 'penalty': 'l2', 'solver': 'liblinear'} at: https://dagshub.com/insculptor/mlops-mini-project.mlflow/#/experiments/3/runs/652468d94d494616b9f592caa3d88c9a.\n",
      "2024/08/11 14:53:06 INFO mlflow.tracking._tracking_service.client: 🧪 View experiment at: https://dagshub.com/insculptor/mlops-mini-project.mlflow/#/experiments/3.\n"
     ]
    },
    {
     "name": "stdout",
     "output_type": "stream",
     "text": [
      "Mean CV Score: 0.759051262936256, Std CV Score: 0.008689989084121275\n",
      "Accuracy: 0.7450602409638554\n",
      "Precision: 0.7091222030981067\n",
      "Recall: 0.8118226600985222\n",
      "F1 Score: 0.7570050528249885\n"
     ]
    },
    {
     "name": "stderr",
     "output_type": "stream",
     "text": [
      "2024/08/11 14:53:08 INFO mlflow.tracking._tracking_service.client: 🏃 View run LR with params: {'C': 0.001, 'max_iter': 400, 'penalty': 'l2', 'solver': 'saga'} at: https://dagshub.com/insculptor/mlops-mini-project.mlflow/#/experiments/3/runs/fe82de0e1ab04d9dbaa9c6bf993655f1.\n",
      "2024/08/11 14:53:08 INFO mlflow.tracking._tracking_service.client: 🧪 View experiment at: https://dagshub.com/insculptor/mlops-mini-project.mlflow/#/experiments/3.\n"
     ]
    },
    {
     "name": "stdout",
     "output_type": "stream",
     "text": [
      "Mean CV Score: 0.7573516282715038, Std CV Score: 0.009541866857555618\n",
      "Accuracy: 0.7436144578313253\n",
      "Precision: 0.7065868263473054\n",
      "Recall: 0.8137931034482758\n",
      "F1 Score: 0.7564102564102564\n"
     ]
    },
    {
     "name": "stderr",
     "output_type": "stream",
     "text": [
      "c:\\Users\\erdrr\\anaconda3\\envs\\mlops_py311\\Lib\\site-packages\\sklearn\\metrics\\_classification.py:1531: UndefinedMetricWarning: Precision is ill-defined and being set to 0.0 due to no predicted samples. Use `zero_division` parameter to control this behavior.\n",
      "  _warn_prf(average, modifier, f\"{metric.capitalize()} is\", len(result))\n",
      "2024/08/11 14:53:09 INFO mlflow.tracking._tracking_service.client: 🏃 View run LR with params: {'C': 0.001, 'max_iter': 500, 'penalty': 'l1', 'solver': 'liblinear'} at: https://dagshub.com/insculptor/mlops-mini-project.mlflow/#/experiments/3/runs/7241a2f004da40ba98c4e1f244a30a2c.\n",
      "2024/08/11 14:53:09 INFO mlflow.tracking._tracking_service.client: 🧪 View experiment at: https://dagshub.com/insculptor/mlops-mini-project.mlflow/#/experiments/3.\n"
     ]
    },
    {
     "name": "stdout",
     "output_type": "stream",
     "text": [
      "Mean CV Score: 0.0, Std CV Score: 0.0\n",
      "Accuracy: 0.5108433734939759\n",
      "Precision: 0.0\n",
      "Recall: 0.0\n",
      "F1 Score: 0.0\n"
     ]
    },
    {
     "name": "stderr",
     "output_type": "stream",
     "text": [
      "2024/08/11 14:53:11 INFO mlflow.tracking._tracking_service.client: 🏃 View run LR with params: {'C': 0.001, 'max_iter': 500, 'penalty': 'l1', 'solver': 'saga'} at: https://dagshub.com/insculptor/mlops-mini-project.mlflow/#/experiments/3/runs/4fed7afe4a874f95a0816d023a850cd4.\n",
      "2024/08/11 14:53:11 INFO mlflow.tracking._tracking_service.client: 🧪 View experiment at: https://dagshub.com/insculptor/mlops-mini-project.mlflow/#/experiments/3.\n"
     ]
    },
    {
     "name": "stdout",
     "output_type": "stream",
     "text": [
      "Mean CV Score: 0.5371748699479791, Std CV Score: 0.26858743497398957\n",
      "Accuracy: 0.4891566265060241\n",
      "Precision: 0.4891566265060241\n",
      "Recall: 1.0\n",
      "F1 Score: 0.656957928802589\n"
     ]
    },
    {
     "name": "stderr",
     "output_type": "stream",
     "text": [
      "2024/08/11 14:53:12 INFO mlflow.tracking._tracking_service.client: 🏃 View run LR with params: {'C': 0.001, 'max_iter': 500, 'penalty': 'l2', 'solver': 'liblinear'} at: https://dagshub.com/insculptor/mlops-mini-project.mlflow/#/experiments/3/runs/07770bd47b5a4f9a9d86048793e97951.\n",
      "2024/08/11 14:53:12 INFO mlflow.tracking._tracking_service.client: 🧪 View experiment at: https://dagshub.com/insculptor/mlops-mini-project.mlflow/#/experiments/3.\n"
     ]
    },
    {
     "name": "stdout",
     "output_type": "stream",
     "text": [
      "Mean CV Score: 0.759051262936256, Std CV Score: 0.008689989084121275\n",
      "Accuracy: 0.7450602409638554\n",
      "Precision: 0.7091222030981067\n",
      "Recall: 0.8118226600985222\n",
      "F1 Score: 0.7570050528249885\n"
     ]
    },
    {
     "name": "stderr",
     "output_type": "stream",
     "text": [
      "2024/08/11 14:53:14 INFO mlflow.tracking._tracking_service.client: 🏃 View run LR with params: {'C': 0.001, 'max_iter': 500, 'penalty': 'l2', 'solver': 'saga'} at: https://dagshub.com/insculptor/mlops-mini-project.mlflow/#/experiments/3/runs/10f0d528ca774cd9afaaea038b054707.\n",
      "2024/08/11 14:53:14 INFO mlflow.tracking._tracking_service.client: 🧪 View experiment at: https://dagshub.com/insculptor/mlops-mini-project.mlflow/#/experiments/3.\n"
     ]
    },
    {
     "name": "stdout",
     "output_type": "stream",
     "text": [
      "Mean CV Score: 0.7569759487505741, Std CV Score: 0.011037413223453833\n",
      "Accuracy: 0.744578313253012\n",
      "Precision: 0.7067348678601876\n",
      "Recall: 0.8167487684729065\n",
      "F1 Score: 0.7577696526508226\n"
     ]
    },
    {
     "name": "stderr",
     "output_type": "stream",
     "text": [
      "2024/08/11 14:53:15 INFO mlflow.tracking._tracking_service.client: 🏃 View run LR with params: {'C': 0.01, 'max_iter': 100, 'penalty': 'l1', 'solver': 'liblinear'} at: https://dagshub.com/insculptor/mlops-mini-project.mlflow/#/experiments/3/runs/46efe828fe724960a1085e0c8520b207.\n",
      "2024/08/11 14:53:15 INFO mlflow.tracking._tracking_service.client: 🧪 View experiment at: https://dagshub.com/insculptor/mlops-mini-project.mlflow/#/experiments/3.\n"
     ]
    },
    {
     "name": "stdout",
     "output_type": "stream",
     "text": [
      "Mean CV Score: 0.2879215858135594, Std CV Score: 0.022223685428783373\n",
      "Accuracy: 0.6\n",
      "Precision: 0.8178694158075601\n",
      "Recall: 0.23448275862068965\n",
      "F1 Score: 0.36447166921898927\n"
     ]
    },
    {
     "name": "stderr",
     "output_type": "stream",
     "text": [
      "2024/08/11 14:53:17 INFO mlflow.tracking._tracking_service.client: 🏃 View run LR with params: {'C': 0.01, 'max_iter': 100, 'penalty': 'l1', 'solver': 'saga'} at: https://dagshub.com/insculptor/mlops-mini-project.mlflow/#/experiments/3/runs/a24120e703084a1eb7e420edcf19bac3.\n",
      "2024/08/11 14:53:17 INFO mlflow.tracking._tracking_service.client: 🧪 View experiment at: https://dagshub.com/insculptor/mlops-mini-project.mlflow/#/experiments/3.\n"
     ]
    },
    {
     "name": "stdout",
     "output_type": "stream",
     "text": [
      "Mean CV Score: 0.6868662484803012, Std CV Score: 0.0024837965163198535\n",
      "Accuracy: 0.5498795180722892\n",
      "Precision: 0.5209086215797625\n",
      "Recall: 0.994088669950739\n",
      "F1 Score: 0.6836043360433605\n"
     ]
    },
    {
     "name": "stderr",
     "output_type": "stream",
     "text": [
      "2024/08/11 14:53:18 INFO mlflow.tracking._tracking_service.client: 🏃 View run LR with params: {'C': 0.01, 'max_iter': 100, 'penalty': 'l2', 'solver': 'liblinear'} at: https://dagshub.com/insculptor/mlops-mini-project.mlflow/#/experiments/3/runs/165d082dd29d49f6a4fb10bc85f8f5b0.\n",
      "2024/08/11 14:53:18 INFO mlflow.tracking._tracking_service.client: 🧪 View experiment at: https://dagshub.com/insculptor/mlops-mini-project.mlflow/#/experiments/3.\n"
     ]
    },
    {
     "name": "stdout",
     "output_type": "stream",
     "text": [
      "Mean CV Score: 0.7496055210504539, Std CV Score: 0.008658452357165286\n",
      "Accuracy: 0.7571084337349397\n",
      "Precision: 0.762051282051282\n",
      "Recall: 0.7320197044334975\n",
      "F1 Score: 0.7467336683417085\n"
     ]
    },
    {
     "name": "stderr",
     "output_type": "stream",
     "text": [
      "2024/08/11 14:53:20 INFO mlflow.tracking._tracking_service.client: 🏃 View run LR with params: {'C': 0.01, 'max_iter': 100, 'penalty': 'l2', 'solver': 'saga'} at: https://dagshub.com/insculptor/mlops-mini-project.mlflow/#/experiments/3/runs/94bfd457ccad4923b505363b8c458a60.\n",
      "2024/08/11 14:53:20 INFO mlflow.tracking._tracking_service.client: 🧪 View experiment at: https://dagshub.com/insculptor/mlops-mini-project.mlflow/#/experiments/3.\n"
     ]
    },
    {
     "name": "stdout",
     "output_type": "stream",
     "text": [
      "Mean CV Score: 0.7487093986701475, Std CV Score: 0.008978052803702383\n",
      "Accuracy: 0.7575903614457832\n",
      "Precision: 0.7633744855967078\n",
      "Recall: 0.7310344827586207\n",
      "F1 Score: 0.7468545546049321\n"
     ]
    },
    {
     "name": "stderr",
     "output_type": "stream",
     "text": [
      "2024/08/11 14:53:22 INFO mlflow.tracking._tracking_service.client: 🏃 View run LR with params: {'C': 0.01, 'max_iter': 200, 'penalty': 'l1', 'solver': 'liblinear'} at: https://dagshub.com/insculptor/mlops-mini-project.mlflow/#/experiments/3/runs/c1182c66d28c4ae78bf4475476f515cf.\n",
      "2024/08/11 14:53:22 INFO mlflow.tracking._tracking_service.client: 🧪 View experiment at: https://dagshub.com/insculptor/mlops-mini-project.mlflow/#/experiments/3.\n"
     ]
    },
    {
     "name": "stdout",
     "output_type": "stream",
     "text": [
      "Mean CV Score: 0.2879215858135594, Std CV Score: 0.022223685428783373\n",
      "Accuracy: 0.6\n",
      "Precision: 0.8178694158075601\n",
      "Recall: 0.23448275862068965\n",
      "F1 Score: 0.36447166921898927\n"
     ]
    },
    {
     "name": "stderr",
     "output_type": "stream",
     "text": [
      "2024/08/11 14:53:23 INFO mlflow.tracking._tracking_service.client: 🏃 View run LR with params: {'C': 0.01, 'max_iter': 200, 'penalty': 'l1', 'solver': 'saga'} at: https://dagshub.com/insculptor/mlops-mini-project.mlflow/#/experiments/3/runs/113ebba599424b979edd4f48e7dad59d.\n",
      "2024/08/11 14:53:23 INFO mlflow.tracking._tracking_service.client: 🧪 View experiment at: https://dagshub.com/insculptor/mlops-mini-project.mlflow/#/experiments/3.\n"
     ]
    },
    {
     "name": "stdout",
     "output_type": "stream",
     "text": [
      "Mean CV Score: 0.6868662484803012, Std CV Score: 0.0024837965163198535\n",
      "Accuracy: 0.5498795180722892\n",
      "Precision: 0.5209086215797625\n",
      "Recall: 0.994088669950739\n",
      "F1 Score: 0.6836043360433605\n"
     ]
    },
    {
     "name": "stderr",
     "output_type": "stream",
     "text": [
      "2024/08/11 14:53:25 INFO mlflow.tracking._tracking_service.client: 🏃 View run LR with params: {'C': 0.01, 'max_iter': 200, 'penalty': 'l2', 'solver': 'liblinear'} at: https://dagshub.com/insculptor/mlops-mini-project.mlflow/#/experiments/3/runs/ba88f10ad72c47e88a0dfbc5fbd173a2.\n"
     ]
    },
    {
     "name": "stdout",
     "output_type": "stream",
     "text": [
      "Mean CV Score: 0.7496055210504539, Std CV Score: 0.008658452357165286\n",
      "Accuracy: 0.7571084337349397\n",
      "Precision: 0.762051282051282\n",
      "Recall: 0.7320197044334975\n",
      "F1 Score: 0.7467336683417085\n"
     ]
    },
    {
     "name": "stderr",
     "output_type": "stream",
     "text": [
      "2024/08/11 14:53:25 INFO mlflow.tracking._tracking_service.client: 🧪 View experiment at: https://dagshub.com/insculptor/mlops-mini-project.mlflow/#/experiments/3.\n",
      "2024/08/11 14:53:26 INFO mlflow.tracking._tracking_service.client: 🏃 View run LR with params: {'C': 0.01, 'max_iter': 200, 'penalty': 'l2', 'solver': 'saga'} at: https://dagshub.com/insculptor/mlops-mini-project.mlflow/#/experiments/3/runs/3954c0fac26843e38cde6ead7ecf596f.\n",
      "2024/08/11 14:53:26 INFO mlflow.tracking._tracking_service.client: 🧪 View experiment at: https://dagshub.com/insculptor/mlops-mini-project.mlflow/#/experiments/3.\n"
     ]
    },
    {
     "name": "stdout",
     "output_type": "stream",
     "text": [
      "Mean CV Score: 0.7479652628657536, Std CV Score: 0.009180998749686628\n",
      "Accuracy: 0.7575903614457832\n",
      "Precision: 0.7633744855967078\n",
      "Recall: 0.7310344827586207\n",
      "F1 Score: 0.7468545546049321\n"
     ]
    },
    {
     "name": "stderr",
     "output_type": "stream",
     "text": [
      "2024/08/11 14:53:28 INFO mlflow.tracking._tracking_service.client: 🏃 View run LR with params: {'C': 0.01, 'max_iter': 300, 'penalty': 'l1', 'solver': 'liblinear'} at: https://dagshub.com/insculptor/mlops-mini-project.mlflow/#/experiments/3/runs/9ab643ad3bd94a1ca076c2c5e2e620b0.\n",
      "2024/08/11 14:53:28 INFO mlflow.tracking._tracking_service.client: 🧪 View experiment at: https://dagshub.com/insculptor/mlops-mini-project.mlflow/#/experiments/3.\n"
     ]
    },
    {
     "name": "stdout",
     "output_type": "stream",
     "text": [
      "Mean CV Score: 0.2879215858135594, Std CV Score: 0.022223685428783373\n",
      "Accuracy: 0.6\n",
      "Precision: 0.8178694158075601\n",
      "Recall: 0.23448275862068965\n",
      "F1 Score: 0.36447166921898927\n"
     ]
    },
    {
     "name": "stderr",
     "output_type": "stream",
     "text": [
      "2024/08/11 14:53:29 INFO mlflow.tracking._tracking_service.client: 🏃 View run LR with params: {'C': 0.01, 'max_iter': 300, 'penalty': 'l1', 'solver': 'saga'} at: https://dagshub.com/insculptor/mlops-mini-project.mlflow/#/experiments/3/runs/0fb5896c47ac4170b264a200efcee3db.\n",
      "2024/08/11 14:53:29 INFO mlflow.tracking._tracking_service.client: 🧪 View experiment at: https://dagshub.com/insculptor/mlops-mini-project.mlflow/#/experiments/3.\n"
     ]
    },
    {
     "name": "stdout",
     "output_type": "stream",
     "text": [
      "Mean CV Score: 0.6868662484803012, Std CV Score: 0.0024837965163198535\n",
      "Accuracy: 0.5498795180722892\n",
      "Precision: 0.5209086215797625\n",
      "Recall: 0.994088669950739\n",
      "F1 Score: 0.6836043360433605\n"
     ]
    },
    {
     "name": "stderr",
     "output_type": "stream",
     "text": [
      "2024/08/11 14:53:31 INFO mlflow.tracking._tracking_service.client: 🏃 View run LR with params: {'C': 0.01, 'max_iter': 300, 'penalty': 'l2', 'solver': 'liblinear'} at: https://dagshub.com/insculptor/mlops-mini-project.mlflow/#/experiments/3/runs/d65d93e3c93a4d62b95305a466c5c1b7.\n",
      "2024/08/11 14:53:31 INFO mlflow.tracking._tracking_service.client: 🧪 View experiment at: https://dagshub.com/insculptor/mlops-mini-project.mlflow/#/experiments/3.\n"
     ]
    },
    {
     "name": "stdout",
     "output_type": "stream",
     "text": [
      "Mean CV Score: 0.7496055210504539, Std CV Score: 0.008658452357165286\n",
      "Accuracy: 0.7571084337349397\n",
      "Precision: 0.762051282051282\n",
      "Recall: 0.7320197044334975\n",
      "F1 Score: 0.7467336683417085\n"
     ]
    },
    {
     "name": "stderr",
     "output_type": "stream",
     "text": [
      "2024/08/11 14:53:32 INFO mlflow.tracking._tracking_service.client: 🏃 View run LR with params: {'C': 0.01, 'max_iter': 300, 'penalty': 'l2', 'solver': 'saga'} at: https://dagshub.com/insculptor/mlops-mini-project.mlflow/#/experiments/3/runs/23f0c344e0c648dab20cb0f7c5740bf1.\n",
      "2024/08/11 14:53:32 INFO mlflow.tracking._tracking_service.client: 🧪 View experiment at: https://dagshub.com/insculptor/mlops-mini-project.mlflow/#/experiments/3.\n"
     ]
    },
    {
     "name": "stdout",
     "output_type": "stream",
     "text": [
      "Mean CV Score: 0.7483339215265933, Std CV Score: 0.008902259025416262\n",
      "Accuracy: 0.7575903614457832\n",
      "Precision: 0.7633744855967078\n",
      "Recall: 0.7310344827586207\n",
      "F1 Score: 0.7468545546049321\n"
     ]
    },
    {
     "name": "stderr",
     "output_type": "stream",
     "text": [
      "2024/08/11 14:53:34 INFO mlflow.tracking._tracking_service.client: 🏃 View run LR with params: {'C': 0.01, 'max_iter': 400, 'penalty': 'l1', 'solver': 'liblinear'} at: https://dagshub.com/insculptor/mlops-mini-project.mlflow/#/experiments/3/runs/8d3aa38487e749829b0ca83c28b36e61.\n",
      "2024/08/11 14:53:34 INFO mlflow.tracking._tracking_service.client: 🧪 View experiment at: https://dagshub.com/insculptor/mlops-mini-project.mlflow/#/experiments/3.\n"
     ]
    },
    {
     "name": "stdout",
     "output_type": "stream",
     "text": [
      "Mean CV Score: 0.2879215858135594, Std CV Score: 0.022223685428783373\n",
      "Accuracy: 0.6\n",
      "Precision: 0.8178694158075601\n",
      "Recall: 0.23448275862068965\n",
      "F1 Score: 0.36447166921898927\n"
     ]
    },
    {
     "name": "stderr",
     "output_type": "stream",
     "text": [
      "2024/08/11 14:53:35 INFO mlflow.tracking._tracking_service.client: 🏃 View run LR with params: {'C': 0.01, 'max_iter': 400, 'penalty': 'l1', 'solver': 'saga'} at: https://dagshub.com/insculptor/mlops-mini-project.mlflow/#/experiments/3/runs/8ba44d995468412ab140239e068b436b.\n",
      "2024/08/11 14:53:35 INFO mlflow.tracking._tracking_service.client: 🧪 View experiment at: https://dagshub.com/insculptor/mlops-mini-project.mlflow/#/experiments/3.\n"
     ]
    },
    {
     "name": "stdout",
     "output_type": "stream",
     "text": [
      "Mean CV Score: 0.6868662484803012, Std CV Score: 0.0024837965163198535\n",
      "Accuracy: 0.5498795180722892\n",
      "Precision: 0.5209086215797625\n",
      "Recall: 0.994088669950739\n",
      "F1 Score: 0.6836043360433605\n"
     ]
    },
    {
     "name": "stderr",
     "output_type": "stream",
     "text": [
      "2024/08/11 14:53:37 INFO mlflow.tracking._tracking_service.client: 🏃 View run LR with params: {'C': 0.01, 'max_iter': 400, 'penalty': 'l2', 'solver': 'liblinear'} at: https://dagshub.com/insculptor/mlops-mini-project.mlflow/#/experiments/3/runs/12e29d1dc84b47a18f5fc773f16b26a7.\n",
      "2024/08/11 14:53:37 INFO mlflow.tracking._tracking_service.client: 🧪 View experiment at: https://dagshub.com/insculptor/mlops-mini-project.mlflow/#/experiments/3.\n"
     ]
    },
    {
     "name": "stdout",
     "output_type": "stream",
     "text": [
      "Mean CV Score: 0.7496055210504539, Std CV Score: 0.008658452357165286\n",
      "Accuracy: 0.7571084337349397\n",
      "Precision: 0.762051282051282\n",
      "Recall: 0.7320197044334975\n",
      "F1 Score: 0.7467336683417085\n"
     ]
    },
    {
     "name": "stderr",
     "output_type": "stream",
     "text": [
      "2024/08/11 14:53:38 INFO mlflow.tracking._tracking_service.client: 🏃 View run LR with params: {'C': 0.01, 'max_iter': 400, 'penalty': 'l2', 'solver': 'saga'} at: https://dagshub.com/insculptor/mlops-mini-project.mlflow/#/experiments/3/runs/7cfaa9686b0849cfb39aee523099d32e.\n",
      "2024/08/11 14:53:38 INFO mlflow.tracking._tracking_service.client: 🧪 View experiment at: https://dagshub.com/insculptor/mlops-mini-project.mlflow/#/experiments/3.\n"
     ]
    },
    {
     "name": "stdout",
     "output_type": "stream",
     "text": [
      "Mean CV Score: 0.7483948967344758, Std CV Score: 0.009076490819018653\n",
      "Accuracy: 0.7575903614457832\n",
      "Precision: 0.7633744855967078\n",
      "Recall: 0.7310344827586207\n",
      "F1 Score: 0.7468545546049321\n"
     ]
    },
    {
     "name": "stderr",
     "output_type": "stream",
     "text": [
      "2024/08/11 14:53:40 INFO mlflow.tracking._tracking_service.client: 🏃 View run LR with params: {'C': 0.01, 'max_iter': 500, 'penalty': 'l1', 'solver': 'liblinear'} at: https://dagshub.com/insculptor/mlops-mini-project.mlflow/#/experiments/3/runs/c25ea3b2c07d40e88d7e419b23873cf6.\n",
      "2024/08/11 14:53:40 INFO mlflow.tracking._tracking_service.client: 🧪 View experiment at: https://dagshub.com/insculptor/mlops-mini-project.mlflow/#/experiments/3.\n"
     ]
    },
    {
     "name": "stdout",
     "output_type": "stream",
     "text": [
      "Mean CV Score: 0.2879215858135594, Std CV Score: 0.022223685428783373\n",
      "Accuracy: 0.6\n",
      "Precision: 0.8178694158075601\n",
      "Recall: 0.23448275862068965\n",
      "F1 Score: 0.36447166921898927\n"
     ]
    },
    {
     "name": "stderr",
     "output_type": "stream",
     "text": [
      "2024/08/11 14:53:41 INFO mlflow.tracking._tracking_service.client: 🏃 View run LR with params: {'C': 0.01, 'max_iter': 500, 'penalty': 'l1', 'solver': 'saga'} at: https://dagshub.com/insculptor/mlops-mini-project.mlflow/#/experiments/3/runs/b8fe6f69105e4ef1991a1e48dc9ad92a.\n"
     ]
    },
    {
     "name": "stdout",
     "output_type": "stream",
     "text": [
      "Mean CV Score: 0.6868662484803012, Std CV Score: 0.0024837965163198535\n",
      "Accuracy: 0.5498795180722892\n",
      "Precision: 0.5209086215797625\n",
      "Recall: 0.994088669950739\n",
      "F1 Score: 0.6836043360433605\n"
     ]
    },
    {
     "name": "stderr",
     "output_type": "stream",
     "text": [
      "2024/08/11 14:53:41 INFO mlflow.tracking._tracking_service.client: 🧪 View experiment at: https://dagshub.com/insculptor/mlops-mini-project.mlflow/#/experiments/3.\n",
      "2024/08/11 14:53:43 INFO mlflow.tracking._tracking_service.client: 🏃 View run LR with params: {'C': 0.01, 'max_iter': 500, 'penalty': 'l2', 'solver': 'liblinear'} at: https://dagshub.com/insculptor/mlops-mini-project.mlflow/#/experiments/3/runs/57749f999836423cb0d805a81bad7268.\n",
      "2024/08/11 14:53:43 INFO mlflow.tracking._tracking_service.client: 🧪 View experiment at: https://dagshub.com/insculptor/mlops-mini-project.mlflow/#/experiments/3.\n"
     ]
    },
    {
     "name": "stdout",
     "output_type": "stream",
     "text": [
      "Mean CV Score: 0.7496055210504539, Std CV Score: 0.008658452357165286\n",
      "Accuracy: 0.7571084337349397\n",
      "Precision: 0.762051282051282\n",
      "Recall: 0.7320197044334975\n",
      "F1 Score: 0.7467336683417085\n"
     ]
    },
    {
     "name": "stderr",
     "output_type": "stream",
     "text": [
      "2024/08/11 14:53:45 INFO mlflow.tracking._tracking_service.client: 🏃 View run LR with params: {'C': 0.01, 'max_iter': 500, 'penalty': 'l2', 'solver': 'saga'} at: https://dagshub.com/insculptor/mlops-mini-project.mlflow/#/experiments/3/runs/6ce9f9147e7740b08b04db7baece68dd.\n",
      "2024/08/11 14:53:45 INFO mlflow.tracking._tracking_service.client: 🧪 View experiment at: https://dagshub.com/insculptor/mlops-mini-project.mlflow/#/experiments/3.\n"
     ]
    },
    {
     "name": "stdout",
     "output_type": "stream",
     "text": [
      "Mean CV Score: 0.7487986835872341, Std CV Score: 0.008824603429477858\n",
      "Accuracy: 0.7571084337349397\n",
      "Precision: 0.762589928057554\n",
      "Recall: 0.7310344827586207\n",
      "F1 Score: 0.7464788732394366\n"
     ]
    },
    {
     "name": "stderr",
     "output_type": "stream",
     "text": [
      "2024/08/11 14:53:46 INFO mlflow.tracking._tracking_service.client: 🏃 View run LR with params: {'C': 0.1, 'max_iter': 100, 'penalty': 'l1', 'solver': 'liblinear'} at: https://dagshub.com/insculptor/mlops-mini-project.mlflow/#/experiments/3/runs/9b98c73141bb4707acd66b644dae81c5.\n",
      "2024/08/11 14:53:46 INFO mlflow.tracking._tracking_service.client: 🧪 View experiment at: https://dagshub.com/insculptor/mlops-mini-project.mlflow/#/experiments/3.\n"
     ]
    },
    {
     "name": "stdout",
     "output_type": "stream",
     "text": [
      "Mean CV Score: 0.7051163373017877, Std CV Score: 0.014297013862890536\n",
      "Accuracy: 0.739277108433735\n",
      "Precision: 0.7749419953596288\n",
      "Recall: 0.6581280788177339\n",
      "F1 Score: 0.7117741076185402\n"
     ]
    },
    {
     "name": "stderr",
     "output_type": "stream",
     "text": [
      "2024/08/11 14:53:48 INFO mlflow.tracking._tracking_service.client: 🏃 View run LR with params: {'C': 0.1, 'max_iter': 100, 'penalty': 'l1', 'solver': 'saga'} at: https://dagshub.com/insculptor/mlops-mini-project.mlflow/#/experiments/3/runs/70c362cb9189409e8a9ebd5c9d264897.\n",
      "2024/08/11 14:53:48 INFO mlflow.tracking._tracking_service.client: 🧪 View experiment at: https://dagshub.com/insculptor/mlops-mini-project.mlflow/#/experiments/3.\n"
     ]
    },
    {
     "name": "stdout",
     "output_type": "stream",
     "text": [
      "Mean CV Score: 0.7051431835522861, Std CV Score: 0.014483793109991717\n",
      "Accuracy: 0.7412048192771085\n",
      "Precision: 0.7811764705882352\n",
      "Recall: 0.6541871921182266\n",
      "F1 Score: 0.7120643431635388\n"
     ]
    },
    {
     "name": "stderr",
     "output_type": "stream",
     "text": [
      "2024/08/11 14:53:49 INFO mlflow.tracking._tracking_service.client: 🏃 View run LR with params: {'C': 0.1, 'max_iter': 100, 'penalty': 'l2', 'solver': 'liblinear'} at: https://dagshub.com/insculptor/mlops-mini-project.mlflow/#/experiments/3/runs/164965946c58424090ebf8db98ff14f7.\n",
      "2024/08/11 14:53:49 INFO mlflow.tracking._tracking_service.client: 🧪 View experiment at: https://dagshub.com/insculptor/mlops-mini-project.mlflow/#/experiments/3.\n"
     ]
    },
    {
     "name": "stdout",
     "output_type": "stream",
     "text": [
      "Mean CV Score: 0.7811972314475085, Std CV Score: 0.011496238130202462\n",
      "Accuracy: 0.7893975903614457\n",
      "Precision: 0.7816764132553606\n",
      "Recall: 0.7901477832512315\n",
      "F1 Score: 0.7858892699657031\n"
     ]
    },
    {
     "name": "stderr",
     "output_type": "stream",
     "text": [
      "2024/08/11 14:53:51 INFO mlflow.tracking._tracking_service.client: 🏃 View run LR with params: {'C': 0.1, 'max_iter': 100, 'penalty': 'l2', 'solver': 'saga'} at: https://dagshub.com/insculptor/mlops-mini-project.mlflow/#/experiments/3/runs/232c13dd0efd4ac1974ea6e8e5901776.\n",
      "2024/08/11 14:53:51 INFO mlflow.tracking._tracking_service.client: 🧪 View experiment at: https://dagshub.com/insculptor/mlops-mini-project.mlflow/#/experiments/3.\n"
     ]
    },
    {
     "name": "stdout",
     "output_type": "stream",
     "text": [
      "Mean CV Score: 0.7814162892645233, Std CV Score: 0.011362523946579429\n",
      "Accuracy: 0.7893975903614457\n",
      "Precision: 0.7811284046692607\n",
      "Recall: 0.7911330049261084\n",
      "F1 Score: 0.7860988742046011\n"
     ]
    },
    {
     "name": "stderr",
     "output_type": "stream",
     "text": [
      "2024/08/11 14:53:52 INFO mlflow.tracking._tracking_service.client: 🏃 View run LR with params: {'C': 0.1, 'max_iter': 200, 'penalty': 'l1', 'solver': 'liblinear'} at: https://dagshub.com/insculptor/mlops-mini-project.mlflow/#/experiments/3/runs/226d980b65074c9fa432049697af2d24.\n",
      "2024/08/11 14:53:52 INFO mlflow.tracking._tracking_service.client: 🧪 View experiment at: https://dagshub.com/insculptor/mlops-mini-project.mlflow/#/experiments/3.\n"
     ]
    },
    {
     "name": "stdout",
     "output_type": "stream",
     "text": [
      "Mean CV Score: 0.7051163373017877, Std CV Score: 0.014297013862890536\n",
      "Accuracy: 0.739277108433735\n",
      "Precision: 0.7749419953596288\n",
      "Recall: 0.6581280788177339\n",
      "F1 Score: 0.7117741076185402\n"
     ]
    },
    {
     "name": "stderr",
     "output_type": "stream",
     "text": [
      "2024/08/11 14:53:54 INFO mlflow.tracking._tracking_service.client: 🏃 View run LR with params: {'C': 0.1, 'max_iter': 200, 'penalty': 'l1', 'solver': 'saga'} at: https://dagshub.com/insculptor/mlops-mini-project.mlflow/#/experiments/3/runs/b4a1008f598c4b43a5c337928130dc8b.\n",
      "2024/08/11 14:53:54 INFO mlflow.tracking._tracking_service.client: 🧪 View experiment at: https://dagshub.com/insculptor/mlops-mini-project.mlflow/#/experiments/3.\n"
     ]
    },
    {
     "name": "stdout",
     "output_type": "stream",
     "text": [
      "Mean CV Score: 0.7051431835522861, Std CV Score: 0.014483793109991717\n",
      "Accuracy: 0.740722891566265\n",
      "Precision: 0.781582054309327\n",
      "Recall: 0.6522167487684729\n",
      "F1 Score: 0.7110633727175081\n"
     ]
    },
    {
     "name": "stderr",
     "output_type": "stream",
     "text": [
      "2024/08/11 14:53:56 INFO mlflow.tracking._tracking_service.client: 🏃 View run LR with params: {'C': 0.1, 'max_iter': 200, 'penalty': 'l2', 'solver': 'liblinear'} at: https://dagshub.com/insculptor/mlops-mini-project.mlflow/#/experiments/3/runs/863f38b33418466598e5400fbac3a11a.\n",
      "2024/08/11 14:53:56 INFO mlflow.tracking._tracking_service.client: 🧪 View experiment at: https://dagshub.com/insculptor/mlops-mini-project.mlflow/#/experiments/3.\n"
     ]
    },
    {
     "name": "stdout",
     "output_type": "stream",
     "text": [
      "Mean CV Score: 0.7811972314475085, Std CV Score: 0.011496238130202462\n",
      "Accuracy: 0.7893975903614457\n",
      "Precision: 0.7816764132553606\n",
      "Recall: 0.7901477832512315\n",
      "F1 Score: 0.7858892699657031\n"
     ]
    },
    {
     "name": "stderr",
     "output_type": "stream",
     "text": [
      "2024/08/11 14:53:57 INFO mlflow.tracking._tracking_service.client: 🏃 View run LR with params: {'C': 0.1, 'max_iter': 200, 'penalty': 'l2', 'solver': 'saga'} at: https://dagshub.com/insculptor/mlops-mini-project.mlflow/#/experiments/3/runs/e60dbcddae6a4442ba5498b3f6b9b2d1.\n",
      "2024/08/11 14:53:57 INFO mlflow.tracking._tracking_service.client: 🧪 View experiment at: https://dagshub.com/insculptor/mlops-mini-project.mlflow/#/experiments/3.\n"
     ]
    },
    {
     "name": "stdout",
     "output_type": "stream",
     "text": [
      "Mean CV Score: 0.7815654096915214, Std CV Score: 0.011270785267270638\n",
      "Accuracy: 0.7898795180722892\n",
      "Precision: 0.7813411078717201\n",
      "Recall: 0.7921182266009852\n",
      "F1 Score: 0.786692759295499\n"
     ]
    },
    {
     "name": "stderr",
     "output_type": "stream",
     "text": [
      "2024/08/11 14:53:59 INFO mlflow.tracking._tracking_service.client: 🏃 View run LR with params: {'C': 0.1, 'max_iter': 300, 'penalty': 'l1', 'solver': 'liblinear'} at: https://dagshub.com/insculptor/mlops-mini-project.mlflow/#/experiments/3/runs/b4a84c924edd41a5ab60cd15e75026c9.\n",
      "2024/08/11 14:53:59 INFO mlflow.tracking._tracking_service.client: 🧪 View experiment at: https://dagshub.com/insculptor/mlops-mini-project.mlflow/#/experiments/3.\n"
     ]
    },
    {
     "name": "stdout",
     "output_type": "stream",
     "text": [
      "Mean CV Score: 0.7051163373017877, Std CV Score: 0.014297013862890536\n",
      "Accuracy: 0.739277108433735\n",
      "Precision: 0.7749419953596288\n",
      "Recall: 0.6581280788177339\n",
      "F1 Score: 0.7117741076185402\n"
     ]
    },
    {
     "name": "stderr",
     "output_type": "stream",
     "text": [
      "2024/08/11 14:54:00 INFO mlflow.tracking._tracking_service.client: 🏃 View run LR with params: {'C': 0.1, 'max_iter': 300, 'penalty': 'l1', 'solver': 'saga'} at: https://dagshub.com/insculptor/mlops-mini-project.mlflow/#/experiments/3/runs/b3aa96df82c1466aa18cc230a06edf48.\n",
      "2024/08/11 14:54:00 INFO mlflow.tracking._tracking_service.client: 🧪 View experiment at: https://dagshub.com/insculptor/mlops-mini-project.mlflow/#/experiments/3.\n"
     ]
    },
    {
     "name": "stdout",
     "output_type": "stream",
     "text": [
      "Mean CV Score: 0.7051431835522861, Std CV Score: 0.014483793109991717\n",
      "Accuracy: 0.740722891566265\n",
      "Precision: 0.781582054309327\n",
      "Recall: 0.6522167487684729\n",
      "F1 Score: 0.7110633727175081\n"
     ]
    },
    {
     "name": "stderr",
     "output_type": "stream",
     "text": [
      "2024/08/11 14:54:02 INFO mlflow.tracking._tracking_service.client: 🏃 View run LR with params: {'C': 0.1, 'max_iter': 300, 'penalty': 'l2', 'solver': 'liblinear'} at: https://dagshub.com/insculptor/mlops-mini-project.mlflow/#/experiments/3/runs/b08c692100fa4d9897b3029c43a10c53.\n",
      "2024/08/11 14:54:02 INFO mlflow.tracking._tracking_service.client: 🧪 View experiment at: https://dagshub.com/insculptor/mlops-mini-project.mlflow/#/experiments/3.\n"
     ]
    },
    {
     "name": "stdout",
     "output_type": "stream",
     "text": [
      "Mean CV Score: 0.7811972314475085, Std CV Score: 0.011496238130202462\n",
      "Accuracy: 0.7893975903614457\n",
      "Precision: 0.7816764132553606\n",
      "Recall: 0.7901477832512315\n",
      "F1 Score: 0.7858892699657031\n"
     ]
    },
    {
     "name": "stderr",
     "output_type": "stream",
     "text": [
      "2024/08/11 14:54:04 INFO mlflow.tracking._tracking_service.client: 🏃 View run LR with params: {'C': 0.1, 'max_iter': 300, 'penalty': 'l2', 'solver': 'saga'} at: https://dagshub.com/insculptor/mlops-mini-project.mlflow/#/experiments/3/runs/aeb6d5266f0a474fb8d77cc71cb81141.\n",
      "2024/08/11 14:54:04 INFO mlflow.tracking._tracking_service.client: 🧪 View experiment at: https://dagshub.com/insculptor/mlops-mini-project.mlflow/#/experiments/3.\n"
     ]
    },
    {
     "name": "stdout",
     "output_type": "stream",
     "text": [
      "Mean CV Score: 0.7815654096915214, Std CV Score: 0.011270785267270638\n",
      "Accuracy: 0.7898795180722892\n",
      "Precision: 0.7813411078717201\n",
      "Recall: 0.7921182266009852\n",
      "F1 Score: 0.786692759295499\n"
     ]
    },
    {
     "name": "stderr",
     "output_type": "stream",
     "text": [
      "2024/08/11 14:54:05 INFO mlflow.tracking._tracking_service.client: 🏃 View run LR with params: {'C': 0.1, 'max_iter': 400, 'penalty': 'l1', 'solver': 'liblinear'} at: https://dagshub.com/insculptor/mlops-mini-project.mlflow/#/experiments/3/runs/f7c4d7f18292438f9f77ac9ee2d6d19e.\n",
      "2024/08/11 14:54:05 INFO mlflow.tracking._tracking_service.client: 🧪 View experiment at: https://dagshub.com/insculptor/mlops-mini-project.mlflow/#/experiments/3.\n"
     ]
    },
    {
     "name": "stdout",
     "output_type": "stream",
     "text": [
      "Mean CV Score: 0.7051163373017877, Std CV Score: 0.014297013862890536\n",
      "Accuracy: 0.739277108433735\n",
      "Precision: 0.7749419953596288\n",
      "Recall: 0.6581280788177339\n",
      "F1 Score: 0.7117741076185402\n"
     ]
    },
    {
     "name": "stderr",
     "output_type": "stream",
     "text": [
      "2024/08/11 14:54:07 INFO mlflow.tracking._tracking_service.client: 🏃 View run LR with params: {'C': 0.1, 'max_iter': 400, 'penalty': 'l1', 'solver': 'saga'} at: https://dagshub.com/insculptor/mlops-mini-project.mlflow/#/experiments/3/runs/46908606333d41ffaf5b23e78ac29b9b.\n",
      "2024/08/11 14:54:07 INFO mlflow.tracking._tracking_service.client: 🧪 View experiment at: https://dagshub.com/insculptor/mlops-mini-project.mlflow/#/experiments/3.\n"
     ]
    },
    {
     "name": "stdout",
     "output_type": "stream",
     "text": [
      "Mean CV Score: 0.7051431835522861, Std CV Score: 0.014483793109991717\n",
      "Accuracy: 0.740722891566265\n",
      "Precision: 0.781582054309327\n",
      "Recall: 0.6522167487684729\n",
      "F1 Score: 0.7110633727175081\n"
     ]
    },
    {
     "name": "stderr",
     "output_type": "stream",
     "text": [
      "2024/08/11 14:54:08 INFO mlflow.tracking._tracking_service.client: 🏃 View run LR with params: {'C': 0.1, 'max_iter': 400, 'penalty': 'l2', 'solver': 'liblinear'} at: https://dagshub.com/insculptor/mlops-mini-project.mlflow/#/experiments/3/runs/50b06b9949be4e11b3100d3d3cc38412.\n",
      "2024/08/11 14:54:08 INFO mlflow.tracking._tracking_service.client: 🧪 View experiment at: https://dagshub.com/insculptor/mlops-mini-project.mlflow/#/experiments/3.\n"
     ]
    },
    {
     "name": "stdout",
     "output_type": "stream",
     "text": [
      "Mean CV Score: 0.7811972314475085, Std CV Score: 0.011496238130202462\n",
      "Accuracy: 0.7893975903614457\n",
      "Precision: 0.7816764132553606\n",
      "Recall: 0.7901477832512315\n",
      "F1 Score: 0.7858892699657031\n"
     ]
    },
    {
     "name": "stderr",
     "output_type": "stream",
     "text": [
      "2024/08/11 14:54:10 INFO mlflow.tracking._tracking_service.client: 🏃 View run LR with params: {'C': 0.1, 'max_iter': 400, 'penalty': 'l2', 'solver': 'saga'} at: https://dagshub.com/insculptor/mlops-mini-project.mlflow/#/experiments/3/runs/11f5e13a9d0248ecb95d3f9bbd10b430.\n"
     ]
    },
    {
     "name": "stdout",
     "output_type": "stream",
     "text": [
      "Mean CV Score: 0.7815654096915214, Std CV Score: 0.011270785267270638\n",
      "Accuracy: 0.7898795180722892\n",
      "Precision: 0.7813411078717201\n",
      "Recall: 0.7921182266009852\n",
      "F1 Score: 0.786692759295499\n"
     ]
    },
    {
     "name": "stderr",
     "output_type": "stream",
     "text": [
      "2024/08/11 14:54:10 INFO mlflow.tracking._tracking_service.client: 🧪 View experiment at: https://dagshub.com/insculptor/mlops-mini-project.mlflow/#/experiments/3.\n",
      "2024/08/11 14:54:11 INFO mlflow.tracking._tracking_service.client: 🏃 View run LR with params: {'C': 0.1, 'max_iter': 500, 'penalty': 'l1', 'solver': 'liblinear'} at: https://dagshub.com/insculptor/mlops-mini-project.mlflow/#/experiments/3/runs/833fccc2ab7d4769932cdf923d5653cb.\n",
      "2024/08/11 14:54:11 INFO mlflow.tracking._tracking_service.client: 🧪 View experiment at: https://dagshub.com/insculptor/mlops-mini-project.mlflow/#/experiments/3.\n"
     ]
    },
    {
     "name": "stdout",
     "output_type": "stream",
     "text": [
      "Mean CV Score: 0.7051163373017877, Std CV Score: 0.014297013862890536\n",
      "Accuracy: 0.739277108433735\n",
      "Precision: 0.7749419953596288\n",
      "Recall: 0.6581280788177339\n",
      "F1 Score: 0.7117741076185402\n"
     ]
    },
    {
     "name": "stderr",
     "output_type": "stream",
     "text": [
      "2024/08/11 14:54:13 INFO mlflow.tracking._tracking_service.client: 🏃 View run LR with params: {'C': 0.1, 'max_iter': 500, 'penalty': 'l1', 'solver': 'saga'} at: https://dagshub.com/insculptor/mlops-mini-project.mlflow/#/experiments/3/runs/4527ab2dc70f46b4a3f87416d70d95ec.\n",
      "2024/08/11 14:54:13 INFO mlflow.tracking._tracking_service.client: 🧪 View experiment at: https://dagshub.com/insculptor/mlops-mini-project.mlflow/#/experiments/3.\n"
     ]
    },
    {
     "name": "stdout",
     "output_type": "stream",
     "text": [
      "Mean CV Score: 0.7051431835522861, Std CV Score: 0.014483793109991717\n",
      "Accuracy: 0.740722891566265\n",
      "Precision: 0.781582054309327\n",
      "Recall: 0.6522167487684729\n",
      "F1 Score: 0.7110633727175081\n"
     ]
    },
    {
     "name": "stderr",
     "output_type": "stream",
     "text": [
      "2024/08/11 14:54:15 INFO mlflow.tracking._tracking_service.client: 🏃 View run LR with params: {'C': 0.1, 'max_iter': 500, 'penalty': 'l2', 'solver': 'liblinear'} at: https://dagshub.com/insculptor/mlops-mini-project.mlflow/#/experiments/3/runs/3f9662fc15be48ae8c2eaf51dfdabcdc.\n",
      "2024/08/11 14:54:15 INFO mlflow.tracking._tracking_service.client: 🧪 View experiment at: https://dagshub.com/insculptor/mlops-mini-project.mlflow/#/experiments/3.\n"
     ]
    },
    {
     "name": "stdout",
     "output_type": "stream",
     "text": [
      "Mean CV Score: 0.7811972314475085, Std CV Score: 0.011496238130202462\n",
      "Accuracy: 0.7893975903614457\n",
      "Precision: 0.7816764132553606\n",
      "Recall: 0.7901477832512315\n",
      "F1 Score: 0.7858892699657031\n"
     ]
    },
    {
     "name": "stderr",
     "output_type": "stream",
     "text": [
      "2024/08/11 14:54:16 INFO mlflow.tracking._tracking_service.client: 🏃 View run LR with params: {'C': 0.1, 'max_iter': 500, 'penalty': 'l2', 'solver': 'saga'} at: https://dagshub.com/insculptor/mlops-mini-project.mlflow/#/experiments/3/runs/622299f5a69b4217a8af289deb8f74fe.\n",
      "2024/08/11 14:54:16 INFO mlflow.tracking._tracking_service.client: 🧪 View experiment at: https://dagshub.com/insculptor/mlops-mini-project.mlflow/#/experiments/3.\n"
     ]
    },
    {
     "name": "stdout",
     "output_type": "stream",
     "text": [
      "Mean CV Score: 0.7815656075510825, Std CV Score: 0.011475144439539047\n",
      "Accuracy: 0.7898795180722892\n",
      "Precision: 0.7813411078717201\n",
      "Recall: 0.7921182266009852\n",
      "F1 Score: 0.786692759295499\n"
     ]
    },
    {
     "name": "stderr",
     "output_type": "stream",
     "text": [
      "2024/08/11 14:54:18 INFO mlflow.tracking._tracking_service.client: 🏃 View run LR with params: {'C': 1, 'max_iter': 100, 'penalty': 'l1', 'solver': 'liblinear'} at: https://dagshub.com/insculptor/mlops-mini-project.mlflow/#/experiments/3/runs/b3c0bf130fc2482abe22c24d3fbc99ea.\n",
      "2024/08/11 14:54:18 INFO mlflow.tracking._tracking_service.client: 🧪 View experiment at: https://dagshub.com/insculptor/mlops-mini-project.mlflow/#/experiments/3.\n"
     ]
    },
    {
     "name": "stdout",
     "output_type": "stream",
     "text": [
      "Mean CV Score: 0.7841366115344025, Std CV Score: 0.009352536472428716\n",
      "Accuracy: 0.7821686746987951\n",
      "Precision: 0.7735665694849369\n",
      "Recall: 0.7842364532019704\n",
      "F1 Score: 0.7788649706457925\n"
     ]
    },
    {
     "name": "stderr",
     "output_type": "stream",
     "text": [
      "c:\\Users\\erdrr\\anaconda3\\envs\\mlops_py311\\Lib\\site-packages\\sklearn\\linear_model\\_sag.py:349: ConvergenceWarning: The max_iter was reached which means the coef_ did not converge\n",
      "  warnings.warn(\n",
      "2024/08/11 14:54:21 INFO mlflow.tracking._tracking_service.client: 🏃 View run LR with params: {'C': 1, 'max_iter': 100, 'penalty': 'l1', 'solver': 'saga'} at: https://dagshub.com/insculptor/mlops-mini-project.mlflow/#/experiments/3/runs/983d67275df642389d4711f8e03c62b9.\n",
      "2024/08/11 14:54:21 INFO mlflow.tracking._tracking_service.client: 🧪 View experiment at: https://dagshub.com/insculptor/mlops-mini-project.mlflow/#/experiments/3.\n"
     ]
    },
    {
     "name": "stdout",
     "output_type": "stream",
     "text": [
      "Mean CV Score: 0.7836173644867728, Std CV Score: 0.008088572961465753\n",
      "Accuracy: 0.7855421686746988\n",
      "Precision: 0.7772373540856031\n",
      "Recall: 0.787192118226601\n",
      "F1 Score: 0.7821830641213902\n"
     ]
    },
    {
     "name": "stderr",
     "output_type": "stream",
     "text": [
      "2024/08/11 14:54:23 INFO mlflow.tracking._tracking_service.client: 🏃 View run LR with params: {'C': 1, 'max_iter': 100, 'penalty': 'l2', 'solver': 'liblinear'} at: https://dagshub.com/insculptor/mlops-mini-project.mlflow/#/experiments/3/runs/62be2b0c62c64e1cb1b85da234035b4a.\n",
      "2024/08/11 14:54:23 INFO mlflow.tracking._tracking_service.client: 🧪 View experiment at: https://dagshub.com/insculptor/mlops-mini-project.mlflow/#/experiments/3.\n"
     ]
    },
    {
     "name": "stdout",
     "output_type": "stream",
     "text": [
      "Mean CV Score: 0.7901458706737883, Std CV Score: 0.009616617990376476\n",
      "Accuracy: 0.7937349397590362\n",
      "Precision: 0.7846750727449079\n",
      "Recall: 0.7970443349753694\n",
      "F1 Score: 0.7908113391984359\n"
     ]
    },
    {
     "name": "stderr",
     "output_type": "stream",
     "text": [
      "c:\\Users\\erdrr\\anaconda3\\envs\\mlops_py311\\Lib\\site-packages\\sklearn\\linear_model\\_sag.py:349: ConvergenceWarning: The max_iter was reached which means the coef_ did not converge\n",
      "  warnings.warn(\n",
      "2024/08/11 14:54:24 INFO mlflow.tracking._tracking_service.client: 🏃 View run LR with params: {'C': 1, 'max_iter': 100, 'penalty': 'l2', 'solver': 'saga'} at: https://dagshub.com/insculptor/mlops-mini-project.mlflow/#/experiments/3/runs/f919c5e69ef14998be8a1a815884c7e5.\n",
      "2024/08/11 14:54:24 INFO mlflow.tracking._tracking_service.client: 🧪 View experiment at: https://dagshub.com/insculptor/mlops-mini-project.mlflow/#/experiments/3.\n"
     ]
    },
    {
     "name": "stdout",
     "output_type": "stream",
     "text": [
      "Mean CV Score: 0.7906327572723562, Std CV Score: 0.009233267394351432\n",
      "Accuracy: 0.7956626506024096\n",
      "Precision: 0.7860600193610843\n",
      "Recall: 0.8\n",
      "F1 Score: 0.79296875\n"
     ]
    },
    {
     "name": "stderr",
     "output_type": "stream",
     "text": [
      "2024/08/11 14:54:26 INFO mlflow.tracking._tracking_service.client: 🏃 View run LR with params: {'C': 1, 'max_iter': 200, 'penalty': 'l1', 'solver': 'liblinear'} at: https://dagshub.com/insculptor/mlops-mini-project.mlflow/#/experiments/3/runs/f83eece6cb5e4dfcbc7359cfc8bcc524.\n",
      "2024/08/11 14:54:26 INFO mlflow.tracking._tracking_service.client: 🧪 View experiment at: https://dagshub.com/insculptor/mlops-mini-project.mlflow/#/experiments/3.\n"
     ]
    },
    {
     "name": "stdout",
     "output_type": "stream",
     "text": [
      "Mean CV Score: 0.7841366115344025, Std CV Score: 0.009352536472428716\n",
      "Accuracy: 0.7821686746987951\n",
      "Precision: 0.7735665694849369\n",
      "Recall: 0.7842364532019704\n",
      "F1 Score: 0.7788649706457925\n"
     ]
    },
    {
     "name": "stderr",
     "output_type": "stream",
     "text": [
      "c:\\Users\\erdrr\\anaconda3\\envs\\mlops_py311\\Lib\\site-packages\\sklearn\\linear_model\\_sag.py:349: ConvergenceWarning: The max_iter was reached which means the coef_ did not converge\n",
      "  warnings.warn(\n",
      "2024/08/11 14:54:30 INFO mlflow.tracking._tracking_service.client: 🏃 View run LR with params: {'C': 1, 'max_iter': 200, 'penalty': 'l1', 'solver': 'saga'} at: https://dagshub.com/insculptor/mlops-mini-project.mlflow/#/experiments/3/runs/735cdde64d5f49808e39499c196b6239.\n"
     ]
    },
    {
     "name": "stdout",
     "output_type": "stream",
     "text": [
      "Mean CV Score: 0.78394348010868, Std CV Score: 0.008945318542661836\n",
      "Accuracy: 0.7850602409638554\n",
      "Precision: 0.7770204479065238\n",
      "Recall: 0.7862068965517242\n",
      "F1 Score: 0.781586679725759\n"
     ]
    },
    {
     "name": "stderr",
     "output_type": "stream",
     "text": [
      "2024/08/11 14:54:30 INFO mlflow.tracking._tracking_service.client: 🧪 View experiment at: https://dagshub.com/insculptor/mlops-mini-project.mlflow/#/experiments/3.\n",
      "2024/08/11 14:54:32 INFO mlflow.tracking._tracking_service.client: 🏃 View run LR with params: {'C': 1, 'max_iter': 200, 'penalty': 'l2', 'solver': 'liblinear'} at: https://dagshub.com/insculptor/mlops-mini-project.mlflow/#/experiments/3/runs/c9ab173767ce4269a2b46583c4121b50.\n",
      "2024/08/11 14:54:32 INFO mlflow.tracking._tracking_service.client: 🧪 View experiment at: https://dagshub.com/insculptor/mlops-mini-project.mlflow/#/experiments/3.\n"
     ]
    },
    {
     "name": "stdout",
     "output_type": "stream",
     "text": [
      "Mean CV Score: 0.7901458706737883, Std CV Score: 0.009616617990376476\n",
      "Accuracy: 0.7937349397590362\n",
      "Precision: 0.7846750727449079\n",
      "Recall: 0.7970443349753694\n",
      "F1 Score: 0.7908113391984359\n"
     ]
    },
    {
     "name": "stderr",
     "output_type": "stream",
     "text": [
      "2024/08/11 14:54:34 INFO mlflow.tracking._tracking_service.client: 🏃 View run LR with params: {'C': 1, 'max_iter': 200, 'penalty': 'l2', 'solver': 'saga'} at: https://dagshub.com/insculptor/mlops-mini-project.mlflow/#/experiments/3/runs/6011e56714fe4940b521a89993368d1a.\n",
      "2024/08/11 14:54:34 INFO mlflow.tracking._tracking_service.client: 🧪 View experiment at: https://dagshub.com/insculptor/mlops-mini-project.mlflow/#/experiments/3.\n"
     ]
    },
    {
     "name": "stdout",
     "output_type": "stream",
     "text": [
      "Mean CV Score: 0.7907767716220621, Std CV Score: 0.00861671700790054\n",
      "Accuracy: 0.7942168674698795\n",
      "Precision: 0.7854368932038835\n",
      "Recall: 0.7970443349753694\n",
      "F1 Score: 0.79119804400978\n"
     ]
    },
    {
     "name": "stderr",
     "output_type": "stream",
     "text": [
      "2024/08/11 14:54:35 INFO mlflow.tracking._tracking_service.client: 🏃 View run LR with params: {'C': 1, 'max_iter': 300, 'penalty': 'l1', 'solver': 'liblinear'} at: https://dagshub.com/insculptor/mlops-mini-project.mlflow/#/experiments/3/runs/13f38586fae34c289f9b4ef10591d8d7.\n"
     ]
    },
    {
     "name": "stdout",
     "output_type": "stream",
     "text": [
      "Mean CV Score: 0.7841366115344025, Std CV Score: 0.009352536472428716\n",
      "Accuracy: 0.7821686746987951\n",
      "Precision: 0.7735665694849369\n",
      "Recall: 0.7842364532019704\n",
      "F1 Score: 0.7788649706457925\n"
     ]
    },
    {
     "name": "stderr",
     "output_type": "stream",
     "text": [
      "2024/08/11 14:54:35 INFO mlflow.tracking._tracking_service.client: 🧪 View experiment at: https://dagshub.com/insculptor/mlops-mini-project.mlflow/#/experiments/3.\n",
      "c:\\Users\\erdrr\\anaconda3\\envs\\mlops_py311\\Lib\\site-packages\\sklearn\\linear_model\\_sag.py:349: ConvergenceWarning: The max_iter was reached which means the coef_ did not converge\n",
      "  warnings.warn(\n",
      "2024/08/11 14:54:41 INFO mlflow.tracking._tracking_service.client: 🏃 View run LR with params: {'C': 1, 'max_iter': 300, 'penalty': 'l1', 'solver': 'saga'} at: https://dagshub.com/insculptor/mlops-mini-project.mlflow/#/experiments/3/runs/37a3e51f5f104a57be605680052cc41b.\n",
      "2024/08/11 14:54:41 INFO mlflow.tracking._tracking_service.client: 🧪 View experiment at: https://dagshub.com/insculptor/mlops-mini-project.mlflow/#/experiments/3.\n"
     ]
    },
    {
     "name": "stdout",
     "output_type": "stream",
     "text": [
      "Mean CV Score: 0.7837067675316922, Std CV Score: 0.009135905495791697\n",
      "Accuracy: 0.7840963855421687\n",
      "Precision: 0.7760467380720545\n",
      "Recall: 0.7852216748768472\n",
      "F1 Score: 0.7806072477962782\n"
     ]
    },
    {
     "name": "stderr",
     "output_type": "stream",
     "text": [
      "2024/08/11 14:54:42 INFO mlflow.tracking._tracking_service.client: 🏃 View run LR with params: {'C': 1, 'max_iter': 300, 'penalty': 'l2', 'solver': 'liblinear'} at: https://dagshub.com/insculptor/mlops-mini-project.mlflow/#/experiments/3/runs/3451856415a9480f81965db9a408194f.\n",
      "2024/08/11 14:54:42 INFO mlflow.tracking._tracking_service.client: 🧪 View experiment at: https://dagshub.com/insculptor/mlops-mini-project.mlflow/#/experiments/3.\n"
     ]
    },
    {
     "name": "stdout",
     "output_type": "stream",
     "text": [
      "Mean CV Score: 0.7901458706737883, Std CV Score: 0.009616617990376476\n",
      "Accuracy: 0.7937349397590362\n",
      "Precision: 0.7846750727449079\n",
      "Recall: 0.7970443349753694\n",
      "F1 Score: 0.7908113391984359\n"
     ]
    },
    {
     "name": "stderr",
     "output_type": "stream",
     "text": [
      "2024/08/11 14:54:44 INFO mlflow.tracking._tracking_service.client: 🏃 View run LR with params: {'C': 1, 'max_iter': 300, 'penalty': 'l2', 'solver': 'saga'} at: https://dagshub.com/insculptor/mlops-mini-project.mlflow/#/experiments/3/runs/9e78f2e0862d47b79d458f872751f9b9.\n",
      "2024/08/11 14:54:44 INFO mlflow.tracking._tracking_service.client: 🧪 View experiment at: https://dagshub.com/insculptor/mlops-mini-project.mlflow/#/experiments/3.\n"
     ]
    },
    {
     "name": "stdout",
     "output_type": "stream",
     "text": [
      "Mean CV Score: 0.7904820429387991, Std CV Score: 0.008832708671952008\n",
      "Accuracy: 0.7942168674698795\n",
      "Precision: 0.7854368932038835\n",
      "Recall: 0.7970443349753694\n",
      "F1 Score: 0.79119804400978\n"
     ]
    },
    {
     "name": "stderr",
     "output_type": "stream",
     "text": [
      "2024/08/11 14:54:45 INFO mlflow.tracking._tracking_service.client: 🏃 View run LR with params: {'C': 1, 'max_iter': 400, 'penalty': 'l1', 'solver': 'liblinear'} at: https://dagshub.com/insculptor/mlops-mini-project.mlflow/#/experiments/3/runs/c968cafdeadd42e0b55381f0ab3924b7.\n",
      "2024/08/11 14:54:45 INFO mlflow.tracking._tracking_service.client: 🧪 View experiment at: https://dagshub.com/insculptor/mlops-mini-project.mlflow/#/experiments/3.\n"
     ]
    },
    {
     "name": "stdout",
     "output_type": "stream",
     "text": [
      "Mean CV Score: 0.7840436153359088, Std CV Score: 0.009188273790904653\n",
      "Accuracy: 0.7821686746987951\n",
      "Precision: 0.7735665694849369\n",
      "Recall: 0.7842364532019704\n",
      "F1 Score: 0.7788649706457925\n"
     ]
    },
    {
     "name": "stderr",
     "output_type": "stream",
     "text": [
      "c:\\Users\\erdrr\\anaconda3\\envs\\mlops_py311\\Lib\\site-packages\\sklearn\\linear_model\\_sag.py:349: ConvergenceWarning: The max_iter was reached which means the coef_ did not converge\n",
      "  warnings.warn(\n",
      "2024/08/11 14:54:52 INFO mlflow.tracking._tracking_service.client: 🏃 View run LR with params: {'C': 1, 'max_iter': 400, 'penalty': 'l1', 'solver': 'saga'} at: https://dagshub.com/insculptor/mlops-mini-project.mlflow/#/experiments/3/runs/be389e5873fd4bbaa7dd7ffd9b14aa4d.\n",
      "2024/08/11 14:54:52 INFO mlflow.tracking._tracking_service.client: 🧪 View experiment at: https://dagshub.com/insculptor/mlops-mini-project.mlflow/#/experiments/3.\n"
     ]
    },
    {
     "name": "stdout",
     "output_type": "stream",
     "text": [
      "Mean CV Score: 0.7844282359220088, Std CV Score: 0.008782318315678822\n",
      "Accuracy: 0.7826506024096386\n",
      "Precision: 0.77431906614786\n",
      "Recall: 0.7842364532019704\n",
      "F1 Score: 0.7792462065589819\n"
     ]
    },
    {
     "name": "stderr",
     "output_type": "stream",
     "text": [
      "2024/08/11 14:54:54 INFO mlflow.tracking._tracking_service.client: 🏃 View run LR with params: {'C': 1, 'max_iter': 400, 'penalty': 'l2', 'solver': 'liblinear'} at: https://dagshub.com/insculptor/mlops-mini-project.mlflow/#/experiments/3/runs/28d9ac89ebf641b1a52145f9d5f3c6bc.\n",
      "2024/08/11 14:54:54 INFO mlflow.tracking._tracking_service.client: 🧪 View experiment at: https://dagshub.com/insculptor/mlops-mini-project.mlflow/#/experiments/3.\n"
     ]
    },
    {
     "name": "stdout",
     "output_type": "stream",
     "text": [
      "Mean CV Score: 0.7901458706737883, Std CV Score: 0.009616617990376476\n",
      "Accuracy: 0.7937349397590362\n",
      "Precision: 0.7846750727449079\n",
      "Recall: 0.7970443349753694\n",
      "F1 Score: 0.7908113391984359\n"
     ]
    },
    {
     "name": "stderr",
     "output_type": "stream",
     "text": [
      "2024/08/11 14:54:56 INFO mlflow.tracking._tracking_service.client: 🏃 View run LR with params: {'C': 1, 'max_iter': 400, 'penalty': 'l2', 'solver': 'saga'} at: https://dagshub.com/insculptor/mlops-mini-project.mlflow/#/experiments/3/runs/d5908f87491a4b5aa42ff52093b0c8b6.\n",
      "2024/08/11 14:54:56 INFO mlflow.tracking._tracking_service.client: 🧪 View experiment at: https://dagshub.com/insculptor/mlops-mini-project.mlflow/#/experiments/3.\n"
     ]
    },
    {
     "name": "stdout",
     "output_type": "stream",
     "text": [
      "Mean CV Score: 0.7906290558208029, Std CV Score: 0.008781892831320562\n",
      "Accuracy: 0.7942168674698795\n",
      "Precision: 0.7854368932038835\n",
      "Recall: 0.7970443349753694\n",
      "F1 Score: 0.79119804400978\n"
     ]
    },
    {
     "name": "stderr",
     "output_type": "stream",
     "text": [
      "2024/08/11 14:54:57 INFO mlflow.tracking._tracking_service.client: 🏃 View run LR with params: {'C': 1, 'max_iter': 500, 'penalty': 'l1', 'solver': 'liblinear'} at: https://dagshub.com/insculptor/mlops-mini-project.mlflow/#/experiments/3/runs/8511d3943cf4457cbb6a33ee6c8d4a77.\n",
      "2024/08/11 14:54:57 INFO mlflow.tracking._tracking_service.client: 🧪 View experiment at: https://dagshub.com/insculptor/mlops-mini-project.mlflow/#/experiments/3.\n"
     ]
    },
    {
     "name": "stdout",
     "output_type": "stream",
     "text": [
      "Mean CV Score: 0.7840436153359088, Std CV Score: 0.009188273790904653\n",
      "Accuracy: 0.7821686746987951\n",
      "Precision: 0.7735665694849369\n",
      "Recall: 0.7842364532019704\n",
      "F1 Score: 0.7788649706457925\n"
     ]
    },
    {
     "name": "stderr",
     "output_type": "stream",
     "text": [
      "c:\\Users\\erdrr\\anaconda3\\envs\\mlops_py311\\Lib\\site-packages\\sklearn\\linear_model\\_sag.py:349: ConvergenceWarning: The max_iter was reached which means the coef_ did not converge\n",
      "  warnings.warn(\n",
      "2024/08/11 14:55:05 INFO mlflow.tracking._tracking_service.client: 🏃 View run LR with params: {'C': 1, 'max_iter': 500, 'penalty': 'l1', 'solver': 'saga'} at: https://dagshub.com/insculptor/mlops-mini-project.mlflow/#/experiments/3/runs/50b8548d60984d29bc90edd332e8eab7.\n",
      "2024/08/11 14:55:05 INFO mlflow.tracking._tracking_service.client: 🧪 View experiment at: https://dagshub.com/insculptor/mlops-mini-project.mlflow/#/experiments/3.\n"
     ]
    },
    {
     "name": "stdout",
     "output_type": "stream",
     "text": [
      "Mean CV Score: 0.7840833341291553, Std CV Score: 0.009097361499593672\n",
      "Accuracy: 0.7821686746987951\n",
      "Precision: 0.7740993184031159\n",
      "Recall: 0.7832512315270936\n",
      "F1 Score: 0.7786483839373164\n"
     ]
    },
    {
     "name": "stderr",
     "output_type": "stream",
     "text": [
      "2024/08/11 14:55:07 INFO mlflow.tracking._tracking_service.client: 🏃 View run LR with params: {'C': 1, 'max_iter': 500, 'penalty': 'l2', 'solver': 'liblinear'} at: https://dagshub.com/insculptor/mlops-mini-project.mlflow/#/experiments/3/runs/98d492fc45b74c85b90d80258f677390.\n"
     ]
    },
    {
     "name": "stdout",
     "output_type": "stream",
     "text": [
      "Mean CV Score: 0.7901458706737883, Std CV Score: 0.009616617990376476\n",
      "Accuracy: 0.7937349397590362\n",
      "Precision: 0.7846750727449079\n",
      "Recall: 0.7970443349753694\n",
      "F1 Score: 0.7908113391984359\n"
     ]
    },
    {
     "name": "stderr",
     "output_type": "stream",
     "text": [
      "2024/08/11 14:55:07 INFO mlflow.tracking._tracking_service.client: 🧪 View experiment at: https://dagshub.com/insculptor/mlops-mini-project.mlflow/#/experiments/3.\n",
      "2024/08/11 14:55:08 INFO mlflow.tracking._tracking_service.client: 🏃 View run LR with params: {'C': 1, 'max_iter': 500, 'penalty': 'l2', 'solver': 'saga'} at: https://dagshub.com/insculptor/mlops-mini-project.mlflow/#/experiments/3/runs/ea1ded82b1094809a3c4ec7acf9a2a24.\n",
      "2024/08/11 14:55:08 INFO mlflow.tracking._tracking_service.client: 🧪 View experiment at: https://dagshub.com/insculptor/mlops-mini-project.mlflow/#/experiments/3.\n"
     ]
    },
    {
     "name": "stdout",
     "output_type": "stream",
     "text": [
      "Mean CV Score: 0.7903927888391136, Std CV Score: 0.008991305631338741\n",
      "Accuracy: 0.7942168674698795\n",
      "Precision: 0.7854368932038835\n",
      "Recall: 0.7970443349753694\n",
      "F1 Score: 0.79119804400978\n"
     ]
    },
    {
     "name": "stderr",
     "output_type": "stream",
     "text": [
      "2024/08/11 14:55:10 INFO mlflow.tracking._tracking_service.client: 🏃 View run LR with params: {'C': 10, 'max_iter': 100, 'penalty': 'l1', 'solver': 'liblinear'} at: https://dagshub.com/insculptor/mlops-mini-project.mlflow/#/experiments/3/runs/5b3397f8da4a4a81a78360621c0588e8.\n",
      "2024/08/11 14:55:10 INFO mlflow.tracking._tracking_service.client: 🧪 View experiment at: https://dagshub.com/insculptor/mlops-mini-project.mlflow/#/experiments/3.\n"
     ]
    },
    {
     "name": "stdout",
     "output_type": "stream",
     "text": [
      "Mean CV Score: 0.7708559576154744, Std CV Score: 0.010006801704688713\n",
      "Accuracy: 0.7821686746987951\n",
      "Precision: 0.7778874629812438\n",
      "Recall: 0.7763546798029557\n",
      "F1 Score: 0.777120315581854\n"
     ]
    },
    {
     "name": "stderr",
     "output_type": "stream",
     "text": [
      "c:\\Users\\erdrr\\anaconda3\\envs\\mlops_py311\\Lib\\site-packages\\sklearn\\linear_model\\_sag.py:349: ConvergenceWarning: The max_iter was reached which means the coef_ did not converge\n",
      "  warnings.warn(\n",
      "2024/08/11 14:55:24 INFO mlflow.tracking._tracking_service.client: 🏃 View run LR with params: {'C': 10, 'max_iter': 100, 'penalty': 'l1', 'solver': 'saga'} at: https://dagshub.com/insculptor/mlops-mini-project.mlflow/#/experiments/3/runs/b53c58cc6bd748e39e48c78446c495bb.\n"
     ]
    },
    {
     "name": "stdout",
     "output_type": "stream",
     "text": [
      "Mean CV Score: 0.7868012984895533, Std CV Score: 0.00971497965134384\n",
      "Accuracy: 0.792289156626506\n",
      "Precision: 0.7818532818532818\n",
      "Recall: 0.7980295566502463\n",
      "F1 Score: 0.7898586055582643\n"
     ]
    },
    {
     "name": "stderr",
     "output_type": "stream",
     "text": [
      "2024/08/11 14:55:24 INFO mlflow.tracking._tracking_service.client: 🧪 View experiment at: https://dagshub.com/insculptor/mlops-mini-project.mlflow/#/experiments/3.\n",
      "2024/08/11 14:55:26 INFO mlflow.tracking._tracking_service.client: 🏃 View run LR with params: {'C': 10, 'max_iter': 100, 'penalty': 'l2', 'solver': 'liblinear'} at: https://dagshub.com/insculptor/mlops-mini-project.mlflow/#/experiments/3/runs/b7ca740da68942928391fdfea32ac754.\n",
      "2024/08/11 14:55:26 INFO mlflow.tracking._tracking_service.client: 🧪 View experiment at: https://dagshub.com/insculptor/mlops-mini-project.mlflow/#/experiments/3.\n"
     ]
    },
    {
     "name": "stdout",
     "output_type": "stream",
     "text": [
      "Mean CV Score: 0.781002998936019, Std CV Score: 0.005279351561572635\n",
      "Accuracy: 0.7836144578313253\n",
      "Precision: 0.7715930902111324\n",
      "Recall: 0.7921182266009852\n",
      "F1 Score: 0.7817209528439475\n"
     ]
    },
    {
     "name": "stderr",
     "output_type": "stream",
     "text": [
      "c:\\Users\\erdrr\\anaconda3\\envs\\mlops_py311\\Lib\\site-packages\\sklearn\\linear_model\\_sag.py:349: ConvergenceWarning: The max_iter was reached which means the coef_ did not converge\n",
      "  warnings.warn(\n",
      "2024/08/11 14:55:27 INFO mlflow.tracking._tracking_service.client: 🏃 View run LR with params: {'C': 10, 'max_iter': 100, 'penalty': 'l2', 'solver': 'saga'} at: https://dagshub.com/insculptor/mlops-mini-project.mlflow/#/experiments/3/runs/e279c35d43a74a10a8c9f7e21add1c14.\n",
      "2024/08/11 14:55:27 INFO mlflow.tracking._tracking_service.client: 🧪 View experiment at: https://dagshub.com/insculptor/mlops-mini-project.mlflow/#/experiments/3.\n"
     ]
    },
    {
     "name": "stdout",
     "output_type": "stream",
     "text": [
      "Mean CV Score: 0.786091809584123, Std CV Score: 0.007916132695008295\n",
      "Accuracy: 0.7869879518072289\n",
      "Precision: 0.7768115942028986\n",
      "Recall: 0.7921182266009852\n",
      "F1 Score: 0.784390243902439\n"
     ]
    },
    {
     "name": "stderr",
     "output_type": "stream",
     "text": [
      "2024/08/11 14:55:29 INFO mlflow.tracking._tracking_service.client: 🏃 View run LR with params: {'C': 10, 'max_iter': 200, 'penalty': 'l1', 'solver': 'liblinear'} at: https://dagshub.com/insculptor/mlops-mini-project.mlflow/#/experiments/3/runs/3d2c9e0f280f43b8940685105f14f946.\n",
      "2024/08/11 14:55:29 INFO mlflow.tracking._tracking_service.client: 🧪 View experiment at: https://dagshub.com/insculptor/mlops-mini-project.mlflow/#/experiments/3.\n"
     ]
    },
    {
     "name": "stdout",
     "output_type": "stream",
     "text": [
      "Mean CV Score: 0.7711480187680932, Std CV Score: 0.010403293662393542\n",
      "Accuracy: 0.7812048192771084\n",
      "Precision: 0.7769002961500494\n",
      "Recall: 0.7753694581280788\n",
      "F1 Score: 0.7761341222879684\n"
     ]
    },
    {
     "name": "stderr",
     "output_type": "stream",
     "text": [
      "c:\\Users\\erdrr\\anaconda3\\envs\\mlops_py311\\Lib\\site-packages\\sklearn\\linear_model\\_sag.py:349: ConvergenceWarning: The max_iter was reached which means the coef_ did not converge\n",
      "  warnings.warn(\n",
      "2024/08/11 14:55:52 INFO mlflow.tracking._tracking_service.client: 🏃 View run LR with params: {'C': 10, 'max_iter': 200, 'penalty': 'l1', 'solver': 'saga'} at: https://dagshub.com/insculptor/mlops-mini-project.mlflow/#/experiments/3/runs/61a8c17919194b6e8434349f67745b7c.\n",
      "2024/08/11 14:55:52 INFO mlflow.tracking._tracking_service.client: 🧪 View experiment at: https://dagshub.com/insculptor/mlops-mini-project.mlflow/#/experiments/3.\n"
     ]
    },
    {
     "name": "stdout",
     "output_type": "stream",
     "text": [
      "Mean CV Score: 0.7819692865536452, Std CV Score: 0.008030187553189643\n",
      "Accuracy: 0.7865060240963856\n",
      "Precision: 0.775\n",
      "Recall: 0.7940886699507389\n",
      "F1 Score: 0.7844282238442822\n"
     ]
    },
    {
     "name": "stderr",
     "output_type": "stream",
     "text": [
      "2024/08/11 14:55:53 INFO mlflow.tracking._tracking_service.client: 🏃 View run LR with params: {'C': 10, 'max_iter': 200, 'penalty': 'l2', 'solver': 'liblinear'} at: https://dagshub.com/insculptor/mlops-mini-project.mlflow/#/experiments/3/runs/b1145faeb90c4cdca464ab544f7894ca.\n"
     ]
    },
    {
     "name": "stdout",
     "output_type": "stream",
     "text": [
      "Mean CV Score: 0.781002998936019, Std CV Score: 0.005279351561572635\n",
      "Accuracy: 0.7836144578313253\n",
      "Precision: 0.7715930902111324\n",
      "Recall: 0.7921182266009852\n",
      "F1 Score: 0.7817209528439475\n"
     ]
    },
    {
     "name": "stderr",
     "output_type": "stream",
     "text": [
      "2024/08/11 14:55:53 INFO mlflow.tracking._tracking_service.client: 🧪 View experiment at: https://dagshub.com/insculptor/mlops-mini-project.mlflow/#/experiments/3.\n",
      "c:\\Users\\erdrr\\anaconda3\\envs\\mlops_py311\\Lib\\site-packages\\sklearn\\linear_model\\_sag.py:349: ConvergenceWarning: The max_iter was reached which means the coef_ did not converge\n",
      "  warnings.warn(\n",
      "2024/08/11 14:55:55 INFO mlflow.tracking._tracking_service.client: 🏃 View run LR with params: {'C': 10, 'max_iter': 200, 'penalty': 'l2', 'solver': 'saga'} at: https://dagshub.com/insculptor/mlops-mini-project.mlflow/#/experiments/3/runs/7e8ab954f3bd4a13b4d8a82189c391e2.\n",
      "2024/08/11 14:55:55 INFO mlflow.tracking._tracking_service.client: 🧪 View experiment at: https://dagshub.com/insculptor/mlops-mini-project.mlflow/#/experiments/3.\n"
     ]
    },
    {
     "name": "stdout",
     "output_type": "stream",
     "text": [
      "Mean CV Score: 0.7849871801090578, Std CV Score: 0.00739723295445827\n",
      "Accuracy: 0.7850602409638554\n",
      "Precision: 0.7706945765937203\n",
      "Recall: 0.7980295566502463\n",
      "F1 Score: 0.7841239109390126\n"
     ]
    },
    {
     "name": "stderr",
     "output_type": "stream",
     "text": [
      "2024/08/11 14:55:57 INFO mlflow.tracking._tracking_service.client: 🏃 View run LR with params: {'C': 10, 'max_iter': 300, 'penalty': 'l1', 'solver': 'liblinear'} at: https://dagshub.com/insculptor/mlops-mini-project.mlflow/#/experiments/3/runs/62e1bedcbf204c13a5e51363a132f3ba.\n",
      "2024/08/11 14:55:57 INFO mlflow.tracking._tracking_service.client: 🧪 View experiment at: https://dagshub.com/insculptor/mlops-mini-project.mlflow/#/experiments/3.\n"
     ]
    },
    {
     "name": "stdout",
     "output_type": "stream",
     "text": [
      "Mean CV Score: 0.7711712503386584, Std CV Score: 0.011126340809577898\n",
      "Accuracy: 0.7840963855421687\n",
      "Precision: 0.7804154302670623\n",
      "Recall: 0.7773399014778325\n",
      "F1 Score: 0.7788746298124383\n"
     ]
    },
    {
     "name": "stderr",
     "output_type": "stream",
     "text": [
      "c:\\Users\\erdrr\\anaconda3\\envs\\mlops_py311\\Lib\\site-packages\\sklearn\\linear_model\\_sag.py:349: ConvergenceWarning: The max_iter was reached which means the coef_ did not converge\n",
      "  warnings.warn(\n",
      "2024/08/11 14:56:27 INFO mlflow.tracking._tracking_service.client: 🏃 View run LR with params: {'C': 10, 'max_iter': 300, 'penalty': 'l1', 'solver': 'saga'} at: https://dagshub.com/insculptor/mlops-mini-project.mlflow/#/experiments/3/runs/34cedb6af95e493f9ab92c3b69c1ba7b.\n",
      "2024/08/11 14:56:27 INFO mlflow.tracking._tracking_service.client: 🧪 View experiment at: https://dagshub.com/insculptor/mlops-mini-project.mlflow/#/experiments/3.\n"
     ]
    },
    {
     "name": "stdout",
     "output_type": "stream",
     "text": [
      "Mean CV Score: 0.7818806269403755, Std CV Score: 0.007144910877125316\n",
      "Accuracy: 0.7836144578313253\n",
      "Precision: 0.7726396917148363\n",
      "Recall: 0.7901477832512315\n",
      "F1 Score: 0.7812956648806625\n"
     ]
    },
    {
     "name": "stderr",
     "output_type": "stream",
     "text": [
      "2024/08/11 14:56:28 INFO mlflow.tracking._tracking_service.client: 🏃 View run LR with params: {'C': 10, 'max_iter': 300, 'penalty': 'l2', 'solver': 'liblinear'} at: https://dagshub.com/insculptor/mlops-mini-project.mlflow/#/experiments/3/runs/e5c3aa00119a4616be2475bebab91119.\n",
      "2024/08/11 14:56:28 INFO mlflow.tracking._tracking_service.client: 🧪 View experiment at: https://dagshub.com/insculptor/mlops-mini-project.mlflow/#/experiments/3.\n"
     ]
    },
    {
     "name": "stdout",
     "output_type": "stream",
     "text": [
      "Mean CV Score: 0.781002998936019, Std CV Score: 0.005279351561572635\n",
      "Accuracy: 0.7836144578313253\n",
      "Precision: 0.7715930902111324\n",
      "Recall: 0.7921182266009852\n",
      "F1 Score: 0.7817209528439475\n"
     ]
    },
    {
     "name": "stderr",
     "output_type": "stream",
     "text": [
      "c:\\Users\\erdrr\\anaconda3\\envs\\mlops_py311\\Lib\\site-packages\\sklearn\\linear_model\\_sag.py:349: ConvergenceWarning: The max_iter was reached which means the coef_ did not converge\n",
      "  warnings.warn(\n",
      "2024/08/11 14:56:30 INFO mlflow.tracking._tracking_service.client: 🏃 View run LR with params: {'C': 10, 'max_iter': 300, 'penalty': 'l2', 'solver': 'saga'} at: https://dagshub.com/insculptor/mlops-mini-project.mlflow/#/experiments/3/runs/9f967d4d2fcf46e8a1c5d8ec3081b861.\n",
      "2024/08/11 14:56:30 INFO mlflow.tracking._tracking_service.client: 🧪 View experiment at: https://dagshub.com/insculptor/mlops-mini-project.mlflow/#/experiments/3.\n"
     ]
    },
    {
     "name": "stdout",
     "output_type": "stream",
     "text": [
      "Mean CV Score: 0.7829025655392338, Std CV Score: 0.006586345999502571\n",
      "Accuracy: 0.7840963855421687\n",
      "Precision: 0.7702573879885606\n",
      "Recall: 0.7960591133004926\n",
      "F1 Score: 0.7829457364341085\n"
     ]
    },
    {
     "name": "stderr",
     "output_type": "stream",
     "text": [
      "2024/08/11 14:56:32 INFO mlflow.tracking._tracking_service.client: 🏃 View run LR with params: {'C': 10, 'max_iter': 400, 'penalty': 'l1', 'solver': 'liblinear'} at: https://dagshub.com/insculptor/mlops-mini-project.mlflow/#/experiments/3/runs/751b192114354b929e8529aba187aca3.\n",
      "2024/08/11 14:56:32 INFO mlflow.tracking._tracking_service.client: 🧪 View experiment at: https://dagshub.com/insculptor/mlops-mini-project.mlflow/#/experiments/3.\n"
     ]
    },
    {
     "name": "stdout",
     "output_type": "stream",
     "text": [
      "Mean CV Score: 0.770812889116308, Std CV Score: 0.010965683612627716\n",
      "Accuracy: 0.7826506024096386\n",
      "Precision: 0.7786561264822134\n",
      "Recall: 0.7763546798029557\n",
      "F1 Score: 0.777503700049334\n"
     ]
    },
    {
     "name": "stderr",
     "output_type": "stream",
     "text": [
      "c:\\Users\\erdrr\\anaconda3\\envs\\mlops_py311\\Lib\\site-packages\\sklearn\\linear_model\\_sag.py:349: ConvergenceWarning: The max_iter was reached which means the coef_ did not converge\n",
      "  warnings.warn(\n",
      "2024/08/11 14:57:09 INFO mlflow.tracking._tracking_service.client: 🏃 View run LR with params: {'C': 10, 'max_iter': 400, 'penalty': 'l1', 'solver': 'saga'} at: https://dagshub.com/insculptor/mlops-mini-project.mlflow/#/experiments/3/runs/010c5242ee884d02b057288b8e358352.\n",
      "2024/08/11 14:57:09 INFO mlflow.tracking._tracking_service.client: 🧪 View experiment at: https://dagshub.com/insculptor/mlops-mini-project.mlflow/#/experiments/3.\n"
     ]
    },
    {
     "name": "stdout",
     "output_type": "stream",
     "text": [
      "Mean CV Score: 0.7815245908083011, Std CV Score: 0.007495014455960112\n",
      "Accuracy: 0.7836144578313253\n",
      "Precision: 0.7721153846153846\n",
      "Recall: 0.7911330049261084\n",
      "F1 Score: 0.7815085158150852\n"
     ]
    },
    {
     "name": "stderr",
     "output_type": "stream",
     "text": [
      "2024/08/11 14:57:11 INFO mlflow.tracking._tracking_service.client: 🏃 View run LR with params: {'C': 10, 'max_iter': 400, 'penalty': 'l2', 'solver': 'liblinear'} at: https://dagshub.com/insculptor/mlops-mini-project.mlflow/#/experiments/3/runs/b7debe5de9394f8785e405291d08b064.\n",
      "2024/08/11 14:57:11 INFO mlflow.tracking._tracking_service.client: 🧪 View experiment at: https://dagshub.com/insculptor/mlops-mini-project.mlflow/#/experiments/3.\n"
     ]
    },
    {
     "name": "stdout",
     "output_type": "stream",
     "text": [
      "Mean CV Score: 0.781002998936019, Std CV Score: 0.005279351561572635\n",
      "Accuracy: 0.7836144578313253\n",
      "Precision: 0.7715930902111324\n",
      "Recall: 0.7921182266009852\n",
      "F1 Score: 0.7817209528439475\n"
     ]
    },
    {
     "name": "stderr",
     "output_type": "stream",
     "text": [
      "c:\\Users\\erdrr\\anaconda3\\envs\\mlops_py311\\Lib\\site-packages\\sklearn\\linear_model\\_sag.py:349: ConvergenceWarning: The max_iter was reached which means the coef_ did not converge\n",
      "  warnings.warn(\n",
      "2024/08/11 14:57:12 INFO mlflow.tracking._tracking_service.client: 🏃 View run LR with params: {'C': 10, 'max_iter': 400, 'penalty': 'l2', 'solver': 'saga'} at: https://dagshub.com/insculptor/mlops-mini-project.mlflow/#/experiments/3/runs/edf44e96c87e48a99c7f4584c7133a86.\n",
      "2024/08/11 14:57:12 INFO mlflow.tracking._tracking_service.client: 🧪 View experiment at: https://dagshub.com/insculptor/mlops-mini-project.mlflow/#/experiments/3.\n"
     ]
    },
    {
     "name": "stdout",
     "output_type": "stream",
     "text": [
      "Mean CV Score: 0.7825388797216598, Std CV Score: 0.005184165981114298\n",
      "Accuracy: 0.7840963855421687\n",
      "Precision: 0.7702573879885606\n",
      "Recall: 0.7960591133004926\n",
      "F1 Score: 0.7829457364341085\n"
     ]
    },
    {
     "name": "stderr",
     "output_type": "stream",
     "text": [
      "2024/08/11 14:57:14 INFO mlflow.tracking._tracking_service.client: 🏃 View run LR with params: {'C': 10, 'max_iter': 500, 'penalty': 'l1', 'solver': 'liblinear'} at: https://dagshub.com/insculptor/mlops-mini-project.mlflow/#/experiments/3/runs/2f59260bca4a4eb391812e4ad8acca6c.\n",
      "2024/08/11 14:57:14 INFO mlflow.tracking._tracking_service.client: 🧪 View experiment at: https://dagshub.com/insculptor/mlops-mini-project.mlflow/#/experiments/3.\n"
     ]
    },
    {
     "name": "stdout",
     "output_type": "stream",
     "text": [
      "Mean CV Score: 0.7714477261953391, Std CV Score: 0.010517298415920664\n",
      "Accuracy: 0.7821686746987951\n",
      "Precision: 0.7784371909000989\n",
      "Recall: 0.7753694581280788\n",
      "F1 Score: 0.7769002961500494\n"
     ]
    },
    {
     "name": "stderr",
     "output_type": "stream",
     "text": [
      "c:\\Users\\erdrr\\anaconda3\\envs\\mlops_py311\\Lib\\site-packages\\sklearn\\linear_model\\_sag.py:349: ConvergenceWarning: The max_iter was reached which means the coef_ did not converge\n",
      "  warnings.warn(\n",
      "2024/08/11 14:57:57 INFO mlflow.tracking._tracking_service.client: 🏃 View run LR with params: {'C': 10, 'max_iter': 500, 'penalty': 'l1', 'solver': 'saga'} at: https://dagshub.com/insculptor/mlops-mini-project.mlflow/#/experiments/3/runs/032dc33053ee4959a46338c9c0b2a2ef.\n",
      "2024/08/11 14:57:57 INFO mlflow.tracking._tracking_service.client: 🧪 View experiment at: https://dagshub.com/insculptor/mlops-mini-project.mlflow/#/experiments/3.\n"
     ]
    },
    {
     "name": "stdout",
     "output_type": "stream",
     "text": [
      "Mean CV Score: 0.7801911857491063, Std CV Score: 0.008533753894391176\n",
      "Accuracy: 0.7840963855421687\n",
      "Precision: 0.7728585178055823\n",
      "Recall: 0.7911330049261084\n",
      "F1 Score: 0.7818889970788705\n"
     ]
    },
    {
     "name": "stderr",
     "output_type": "stream",
     "text": [
      "2024/08/11 14:57:59 INFO mlflow.tracking._tracking_service.client: 🏃 View run LR with params: {'C': 10, 'max_iter': 500, 'penalty': 'l2', 'solver': 'liblinear'} at: https://dagshub.com/insculptor/mlops-mini-project.mlflow/#/experiments/3/runs/f86cf8c2a3fc4b70b080cb57b3a832e3.\n",
      "2024/08/11 14:57:59 INFO mlflow.tracking._tracking_service.client: 🧪 View experiment at: https://dagshub.com/insculptor/mlops-mini-project.mlflow/#/experiments/3.\n"
     ]
    },
    {
     "name": "stdout",
     "output_type": "stream",
     "text": [
      "Mean CV Score: 0.781002998936019, Std CV Score: 0.005279351561572635\n",
      "Accuracy: 0.7836144578313253\n",
      "Precision: 0.7715930902111324\n",
      "Recall: 0.7921182266009852\n",
      "F1 Score: 0.7817209528439475\n"
     ]
    },
    {
     "name": "stderr",
     "output_type": "stream",
     "text": [
      "c:\\Users\\erdrr\\anaconda3\\envs\\mlops_py311\\Lib\\site-packages\\sklearn\\linear_model\\_sag.py:349: ConvergenceWarning: The max_iter was reached which means the coef_ did not converge\n",
      "  warnings.warn(\n",
      "2024/08/11 14:58:01 INFO mlflow.tracking._tracking_service.client: 🏃 View run LR with params: {'C': 10, 'max_iter': 500, 'penalty': 'l2', 'solver': 'saga'} at: https://dagshub.com/insculptor/mlops-mini-project.mlflow/#/experiments/3/runs/848f229d6c1c4c04adb6f5213c5d2a97.\n",
      "2024/08/11 14:58:01 INFO mlflow.tracking._tracking_service.client: 🧪 View experiment at: https://dagshub.com/insculptor/mlops-mini-project.mlflow/#/experiments/3.\n"
     ]
    },
    {
     "name": "stdout",
     "output_type": "stream",
     "text": [
      "Mean CV Score: 0.7825008230695341, Std CV Score: 0.005443426642656698\n",
      "Accuracy: 0.7840963855421687\n",
      "Precision: 0.7712918660287081\n",
      "Recall: 0.7940886699507389\n",
      "F1 Score: 0.7825242718446602\n"
     ]
    },
    {
     "name": "stderr",
     "output_type": "stream",
     "text": [
      "2024/08/11 14:58:02 INFO mlflow.tracking._tracking_service.client: 🏃 View run LR with params: {'C': 100, 'max_iter': 100, 'penalty': 'l1', 'solver': 'liblinear'} at: https://dagshub.com/insculptor/mlops-mini-project.mlflow/#/experiments/3/runs/a1f546dd8378431cbe82be4a8b4f122a.\n",
      "2024/08/11 14:58:02 INFO mlflow.tracking._tracking_service.client: 🧪 View experiment at: https://dagshub.com/insculptor/mlops-mini-project.mlflow/#/experiments/3.\n"
     ]
    },
    {
     "name": "stdout",
     "output_type": "stream",
     "text": [
      "Mean CV Score: 0.7554779811707116, Std CV Score: 0.015564643507674676\n",
      "Accuracy: 0.7686746987951807\n",
      "Precision: 0.7640671273445212\n",
      "Recall: 0.7625615763546798\n",
      "F1 Score: 0.7633136094674556\n"
     ]
    },
    {
     "name": "stderr",
     "output_type": "stream",
     "text": [
      "c:\\Users\\erdrr\\anaconda3\\envs\\mlops_py311\\Lib\\site-packages\\sklearn\\linear_model\\_sag.py:349: ConvergenceWarning: The max_iter was reached which means the coef_ did not converge\n",
      "  warnings.warn(\n",
      "2024/08/11 14:58:22 INFO mlflow.tracking._tracking_service.client: 🏃 View run LR with params: {'C': 100, 'max_iter': 100, 'penalty': 'l1', 'solver': 'saga'} at: https://dagshub.com/insculptor/mlops-mini-project.mlflow/#/experiments/3/runs/e730781437b54663a086b2bb625c0cd5.\n",
      "2024/08/11 14:58:22 INFO mlflow.tracking._tracking_service.client: 🧪 View experiment at: https://dagshub.com/insculptor/mlops-mini-project.mlflow/#/experiments/3.\n"
     ]
    },
    {
     "name": "stdout",
     "output_type": "stream",
     "text": [
      "Mean CV Score: 0.7865608714065474, Std CV Score: 0.008129127471489007\n",
      "Accuracy: 0.7874698795180722\n",
      "Precision: 0.7764932562620424\n",
      "Recall: 0.7940886699507389\n",
      "F1 Score: 0.7851924013638578\n",
      "Mean CV Score: 0.7599745606714509, Std CV Score: 0.007412648253781466\n",
      "Accuracy: 0.7681927710843374\n",
      "Precision: 0.7617647058823529\n",
      "Recall: 0.7655172413793103\n",
      "F1 Score: 0.7636363636363637\n"
     ]
    },
    {
     "name": "stderr",
     "output_type": "stream",
     "text": [
      "2024/08/11 14:58:24 INFO mlflow.tracking._tracking_service.client: 🏃 View run LR with params: {'C': 100, 'max_iter': 100, 'penalty': 'l2', 'solver': 'liblinear'} at: https://dagshub.com/insculptor/mlops-mini-project.mlflow/#/experiments/3/runs/cb4250b9ae07403694fb79edb7edcf08.\n",
      "2024/08/11 14:58:24 INFO mlflow.tracking._tracking_service.client: 🧪 View experiment at: https://dagshub.com/insculptor/mlops-mini-project.mlflow/#/experiments/3.\n",
      "c:\\Users\\erdrr\\anaconda3\\envs\\mlops_py311\\Lib\\site-packages\\sklearn\\linear_model\\_sag.py:349: ConvergenceWarning: The max_iter was reached which means the coef_ did not converge\n",
      "  warnings.warn(\n",
      "2024/08/11 14:58:26 INFO mlflow.tracking._tracking_service.client: 🏃 View run LR with params: {'C': 100, 'max_iter': 100, 'penalty': 'l2', 'solver': 'saga'} at: https://dagshub.com/insculptor/mlops-mini-project.mlflow/#/experiments/3/runs/a6f7690a989b4cc39dd4c5001cec0d93.\n",
      "2024/08/11 14:58:26 INFO mlflow.tracking._tracking_service.client: 🧪 View experiment at: https://dagshub.com/insculptor/mlops-mini-project.mlflow/#/experiments/3.\n"
     ]
    },
    {
     "name": "stdout",
     "output_type": "stream",
     "text": [
      "Mean CV Score: 0.7849273896987451, Std CV Score: 0.0073256594894574615\n",
      "Accuracy: 0.7865060240963856\n",
      "Precision: 0.7755298651252408\n",
      "Recall: 0.7931034482758621\n",
      "F1 Score: 0.784218217243059\n"
     ]
    },
    {
     "name": "stderr",
     "output_type": "stream",
     "text": [
      "2024/08/11 14:58:28 INFO mlflow.tracking._tracking_service.client: 🏃 View run LR with params: {'C': 100, 'max_iter': 200, 'penalty': 'l1', 'solver': 'liblinear'} at: https://dagshub.com/insculptor/mlops-mini-project.mlflow/#/experiments/3/runs/09a50f50db3c44c3b5280da59b478b21.\n",
      "2024/08/11 14:58:28 INFO mlflow.tracking._tracking_service.client: 🧪 View experiment at: https://dagshub.com/insculptor/mlops-mini-project.mlflow/#/experiments/3.\n"
     ]
    },
    {
     "name": "stdout",
     "output_type": "stream",
     "text": [
      "Mean CV Score: 0.7547984483018105, Std CV Score: 0.0146127564630285\n",
      "Accuracy: 0.7691566265060241\n",
      "Precision: 0.7658730158730159\n",
      "Recall: 0.7605911330049261\n",
      "F1 Score: 0.7632229362333168\n"
     ]
    }
   ],
   "source": [
    "# Start the parent run for hyperparameter tuning\n",
    "with mlflow.start_run():\n",
    "\n",
    "    # Perform grid search\n",
    "    grid_search = GridSearchCV(LogisticRegression(), param_grid, cv=5, scoring='f1', n_jobs=-1)\n",
    "    grid_search.fit(X_train, y_train)\n",
    "\n",
    "    # Log each parameter combination as a child run\n",
    "    for params, mean_score, std_score in zip(grid_search.cv_results_['params'], grid_search.cv_results_['mean_test_score'], grid_search.cv_results_['std_test_score']):\n",
    "        with mlflow.start_run(run_name=f\"LR with params: {params}\", nested=True):\n",
    "            model = LogisticRegression(**params)\n",
    "            model.fit(X_train, y_train)\n",
    "            \n",
    "            # Model evaluation\n",
    "            y_pred = model.predict(X_test)\n",
    "            accuracy = accuracy_score(y_test, y_pred)\n",
    "            precision = precision_score(y_test, y_pred)\n",
    "            recall = recall_score(y_test, y_pred)\n",
    "            f1 = f1_score(y_test, y_pred)\n",
    "            \n",
    "            # Log parameters and metrics\n",
    "            mlflow.log_params(params)\n",
    "            mlflow.log_metric(\"mean_cv_score\", mean_score)\n",
    "            mlflow.log_metric(\"std_cv_score\", std_score)\n",
    "            mlflow.log_metric(\"accuracy\", accuracy)\n",
    "            mlflow.log_metric(\"precision\", precision)\n",
    "            mlflow.log_metric(\"recall\", recall)\n",
    "            mlflow.log_metric(\"f1_score\", f1)\n",
    "            \n",
    "            \n",
    "            # Print the results for verification\n",
    "            print(f\"Mean CV Score: {mean_score}, Std CV Score: {std_score}\")\n",
    "            print(f\"Accuracy: {accuracy}\")\n",
    "            print(f\"Precision: {precision}\")\n",
    "            print(f\"Recall: {recall}\")\n",
    "            print(f\"F1 Score: {f1}\")\n",
    "\n",
    "    # Log the best run details in the parent run\n",
    "    best_params = grid_search.best_params_\n",
    "    best_score = grid_search.best_score_\n",
    "    mlflow.log_params(best_params)\n",
    "    mlflow.log_metric(\"best_f1_score\", best_score)\n",
    "    \n",
    "    print(f\"Best Params: {best_params}\")\n",
    "    print(f\"Best F1 Score: {best_score}\")\n",
    "    \n",
    "    \n",
    "    ## Log Jupyter Notebook\n",
    "    notebook_path = os.path.join(notebooks_path, \"exp3_LR_BOW_HyperparameterTuning.ipynb\")\n",
    "    os.system(f\"jupyter nbconvert --to notebook --execute --inplace {notebook_path}\")\n",
    "    mlflow.log_artifact(notebook_path)\n",
    "    \n",
    "    ## Log model\n",
    "    mlflow.sklearn.log_model(grid_search.best_estimator_, \"model\")"
   ]
  },
  {
   "cell_type": "code",
   "execution_count": null,
   "metadata": {},
   "outputs": [],
   "source": []
  }
 ],
 "metadata": {
  "kernelspec": {
   "display_name": "mlops_py311",
   "language": "python",
   "name": "python3"
  },
  "language_info": {
   "codemirror_mode": {
    "name": "ipython",
    "version": 3
   },
   "file_extension": ".py",
   "mimetype": "text/x-python",
   "name": "python",
   "nbconvert_exporter": "python",
   "pygments_lexer": "ipython3",
   "version": "3.11.9"
  }
 },
 "nbformat": 4,
 "nbformat_minor": 2
}
